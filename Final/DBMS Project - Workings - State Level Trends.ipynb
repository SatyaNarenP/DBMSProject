{
 "cells": [
  {
   "cell_type": "code",
   "execution_count": 19,
   "metadata": {},
   "outputs": [
    {
     "name": "stdout",
     "output_type": "stream",
     "text": [
      "Populating the interactive namespace from numpy and matplotlib\n"
     ]
    }
   ],
   "source": [
    "import pandas as pd\n",
    "from pandas import Series,DataFrame\n",
    "%pylab inline\n",
    "import matplotlib.ticker as ticker\n",
    "import matplotlib.pyplot as plt\n",
    "import seaborn as sns\n",
    "import warnings\n",
    "warnings.filterwarnings(\"ignore\")\n",
    "from sklearn.cluster import KMeans\n",
    "from sklearn.preprocessing import scale\n",
    "import seaborn as sns\n",
    "from plotly.offline import init_notebook_mode, iplot\n",
    "import plotly"
   ]
  },
  {
   "cell_type": "code",
   "execution_count": 20,
   "metadata": {},
   "outputs": [],
   "source": [
    "filename = 'Cleaned_data.csv'\n",
    "dateparse = lambda x: pd.datetime.strptime(x, '%Y-%m-%d')\n",
    "df_prime = pd.read_csv(filename,parse_dates=['date'], date_parser=dateparse)"
   ]
  },
  {
   "cell_type": "code",
   "execution_count": 21,
   "metadata": {},
   "outputs": [
    {
     "name": "stdout",
     "output_type": "stream",
     "text": [
      "(239399, 33)\n"
     ]
    },
    {
     "data": {
      "text/html": [
       "<div>\n",
       "<style scoped>\n",
       "    .dataframe tbody tr th:only-of-type {\n",
       "        vertical-align: middle;\n",
       "    }\n",
       "\n",
       "    .dataframe tbody tr th {\n",
       "        vertical-align: top;\n",
       "    }\n",
       "\n",
       "    .dataframe thead th {\n",
       "        text-align: right;\n",
       "    }\n",
       "</style>\n",
       "<table border=\"1\" class=\"dataframe\">\n",
       "  <thead>\n",
       "    <tr style=\"text-align: right;\">\n",
       "      <th></th>\n",
       "      <th>Unnamed: 0</th>\n",
       "      <th>incident_id</th>\n",
       "      <th>date</th>\n",
       "      <th>state</th>\n",
       "      <th>city_or_county</th>\n",
       "      <th>n_killed</th>\n",
       "      <th>n_injured</th>\n",
       "      <th>latitude</th>\n",
       "      <th>location_description</th>\n",
       "      <th>longitude</th>\n",
       "      <th>...</th>\n",
       "      <th>Gang Related</th>\n",
       "      <th>Incident at School</th>\n",
       "      <th>Home Invastion</th>\n",
       "      <th>Mass Shooting</th>\n",
       "      <th>Murder/Suicide</th>\n",
       "      <th>OfficerInvolved</th>\n",
       "      <th>Terrorism</th>\n",
       "      <th>Month</th>\n",
       "      <th>DayofWeek</th>\n",
       "      <th>Year</th>\n",
       "    </tr>\n",
       "  </thead>\n",
       "  <tbody>\n",
       "    <tr>\n",
       "      <th>0</th>\n",
       "      <td>278</td>\n",
       "      <td>95289</td>\n",
       "      <td>2014-01-01</td>\n",
       "      <td>Michigan</td>\n",
       "      <td>Muskegon</td>\n",
       "      <td>0</td>\n",
       "      <td>0</td>\n",
       "      <td>43.2301</td>\n",
       "      <td>NaN</td>\n",
       "      <td>-86.2514</td>\n",
       "      <td>...</td>\n",
       "      <td>0</td>\n",
       "      <td>0</td>\n",
       "      <td>0</td>\n",
       "      <td>0</td>\n",
       "      <td>0</td>\n",
       "      <td>0</td>\n",
       "      <td>0</td>\n",
       "      <td>January</td>\n",
       "      <td>Wednesday</td>\n",
       "      <td>2014</td>\n",
       "    </tr>\n",
       "    <tr>\n",
       "      <th>1</th>\n",
       "      <td>279</td>\n",
       "      <td>92401</td>\n",
       "      <td>2014-01-01</td>\n",
       "      <td>New Jersey</td>\n",
       "      <td>Newark</td>\n",
       "      <td>0</td>\n",
       "      <td>0</td>\n",
       "      <td>40.7417</td>\n",
       "      <td>NaN</td>\n",
       "      <td>-74.1695</td>\n",
       "      <td>...</td>\n",
       "      <td>0</td>\n",
       "      <td>0</td>\n",
       "      <td>0</td>\n",
       "      <td>0</td>\n",
       "      <td>0</td>\n",
       "      <td>1</td>\n",
       "      <td>0</td>\n",
       "      <td>January</td>\n",
       "      <td>Wednesday</td>\n",
       "      <td>2014</td>\n",
       "    </tr>\n",
       "    <tr>\n",
       "      <th>2</th>\n",
       "      <td>280</td>\n",
       "      <td>92383</td>\n",
       "      <td>2014-01-01</td>\n",
       "      <td>New York</td>\n",
       "      <td>Queens</td>\n",
       "      <td>1</td>\n",
       "      <td>0</td>\n",
       "      <td>40.7034</td>\n",
       "      <td>NaN</td>\n",
       "      <td>-73.7474</td>\n",
       "      <td>...</td>\n",
       "      <td>0</td>\n",
       "      <td>0</td>\n",
       "      <td>0</td>\n",
       "      <td>0</td>\n",
       "      <td>0</td>\n",
       "      <td>0</td>\n",
       "      <td>0</td>\n",
       "      <td>January</td>\n",
       "      <td>Wednesday</td>\n",
       "      <td>2014</td>\n",
       "    </tr>\n",
       "    <tr>\n",
       "      <th>3</th>\n",
       "      <td>281</td>\n",
       "      <td>92142</td>\n",
       "      <td>2014-01-01</td>\n",
       "      <td>New York</td>\n",
       "      <td>Brooklyn</td>\n",
       "      <td>0</td>\n",
       "      <td>1</td>\n",
       "      <td>40.6715</td>\n",
       "      <td>NaN</td>\n",
       "      <td>-73.9476</td>\n",
       "      <td>...</td>\n",
       "      <td>0</td>\n",
       "      <td>0</td>\n",
       "      <td>0</td>\n",
       "      <td>0</td>\n",
       "      <td>0</td>\n",
       "      <td>0</td>\n",
       "      <td>0</td>\n",
       "      <td>January</td>\n",
       "      <td>Wednesday</td>\n",
       "      <td>2014</td>\n",
       "    </tr>\n",
       "    <tr>\n",
       "      <th>4</th>\n",
       "      <td>282</td>\n",
       "      <td>95261</td>\n",
       "      <td>2014-01-01</td>\n",
       "      <td>Missouri</td>\n",
       "      <td>Springfield</td>\n",
       "      <td>0</td>\n",
       "      <td>1</td>\n",
       "      <td>37.2646</td>\n",
       "      <td>NaN</td>\n",
       "      <td>-93.3007</td>\n",
       "      <td>...</td>\n",
       "      <td>0</td>\n",
       "      <td>0</td>\n",
       "      <td>0</td>\n",
       "      <td>0</td>\n",
       "      <td>0</td>\n",
       "      <td>0</td>\n",
       "      <td>0</td>\n",
       "      <td>January</td>\n",
       "      <td>Wednesday</td>\n",
       "      <td>2014</td>\n",
       "    </tr>\n",
       "  </tbody>\n",
       "</table>\n",
       "<p>5 rows × 33 columns</p>\n",
       "</div>"
      ],
      "text/plain": [
       "   Unnamed: 0  incident_id       date       state city_or_county  n_killed  \\\n",
       "0         278        95289 2014-01-01    Michigan       Muskegon         0   \n",
       "1         279        92401 2014-01-01  New Jersey         Newark         0   \n",
       "2         280        92383 2014-01-01    New York         Queens         1   \n",
       "3         281        92142 2014-01-01    New York       Brooklyn         0   \n",
       "4         282        95261 2014-01-01    Missouri    Springfield         0   \n",
       "\n",
       "   n_injured  latitude location_description  longitude  ...  Gang Related  \\\n",
       "0          0   43.2301                  NaN   -86.2514  ...             0   \n",
       "1          0   40.7417                  NaN   -74.1695  ...             0   \n",
       "2          0   40.7034                  NaN   -73.7474  ...             0   \n",
       "3          1   40.6715                  NaN   -73.9476  ...             0   \n",
       "4          1   37.2646                  NaN   -93.3007  ...             0   \n",
       "\n",
       "   Incident at School  Home Invastion  Mass Shooting  Murder/Suicide  \\\n",
       "0                   0               0              0               0   \n",
       "1                   0               0              0               0   \n",
       "2                   0               0              0               0   \n",
       "3                   0               0              0               0   \n",
       "4                   0               0              0               0   \n",
       "\n",
       "   OfficerInvolved  Terrorism    Month  DayofWeek  Year  \n",
       "0                0          0  January  Wednesday  2014  \n",
       "1                1          0  January  Wednesday  2014  \n",
       "2                0          0  January  Wednesday  2014  \n",
       "3                0          0  January  Wednesday  2014  \n",
       "4                0          0  January  Wednesday  2014  \n",
       "\n",
       "[5 rows x 33 columns]"
      ]
     },
     "execution_count": 21,
     "metadata": {},
     "output_type": "execute_result"
    }
   ],
   "source": [
    "print(df_prime.shape)\n",
    "df_prime.head(5)"
   ]
  },
  {
   "cell_type": "code",
   "execution_count": 22,
   "metadata": {},
   "outputs": [
    {
     "data": {
      "text/html": [
       "<div>\n",
       "<style scoped>\n",
       "    .dataframe tbody tr th:only-of-type {\n",
       "        vertical-align: middle;\n",
       "    }\n",
       "\n",
       "    .dataframe tbody tr th {\n",
       "        vertical-align: top;\n",
       "    }\n",
       "\n",
       "    .dataframe thead th {\n",
       "        text-align: right;\n",
       "    }\n",
       "</style>\n",
       "<table border=\"1\" class=\"dataframe\">\n",
       "  <thead>\n",
       "    <tr style=\"text-align: right;\">\n",
       "      <th></th>\n",
       "      <th>state</th>\n",
       "      <th>Year</th>\n",
       "      <th>incident_id</th>\n",
       "    </tr>\n",
       "  </thead>\n",
       "  <tbody>\n",
       "    <tr>\n",
       "      <th>0</th>\n",
       "      <td>Illinois</td>\n",
       "      <td>2017</td>\n",
       "      <td>5089</td>\n",
       "    </tr>\n",
       "    <tr>\n",
       "      <th>1</th>\n",
       "      <td>Illinois</td>\n",
       "      <td>2016</td>\n",
       "      <td>5055</td>\n",
       "    </tr>\n",
       "    <tr>\n",
       "      <th>2</th>\n",
       "      <td>California</td>\n",
       "      <td>2017</td>\n",
       "      <td>4588</td>\n",
       "    </tr>\n",
       "    <tr>\n",
       "      <th>3</th>\n",
       "      <td>Florida</td>\n",
       "      <td>2016</td>\n",
       "      <td>4201</td>\n",
       "    </tr>\n",
       "    <tr>\n",
       "      <th>4</th>\n",
       "      <td>Florida</td>\n",
       "      <td>2017</td>\n",
       "      <td>4156</td>\n",
       "    </tr>\n",
       "  </tbody>\n",
       "</table>\n",
       "</div>"
      ],
      "text/plain": [
       "        state  Year  incident_id\n",
       "0    Illinois  2017         5089\n",
       "1    Illinois  2016         5055\n",
       "2  California  2017         4588\n",
       "3     Florida  2016         4201\n",
       "4     Florida  2017         4156"
      ]
     },
     "execution_count": 22,
     "metadata": {},
     "output_type": "execute_result"
    }
   ],
   "source": [
    "state_df = df_prime.groupby(['state','Year']).agg({'incident_id': 'count'}).sort_values(by='incident_id', ascending=False).reset_index()\n",
    "state_df.head()"
   ]
  },
  {
   "cell_type": "code",
   "execution_count": 23,
   "metadata": {},
   "outputs": [
    {
     "data": {
      "text/html": [
       "<div>\n",
       "<style scoped>\n",
       "    .dataframe tbody tr th:only-of-type {\n",
       "        vertical-align: middle;\n",
       "    }\n",
       "\n",
       "    .dataframe tbody tr th {\n",
       "        vertical-align: top;\n",
       "    }\n",
       "\n",
       "    .dataframe thead th {\n",
       "        text-align: right;\n",
       "    }\n",
       "</style>\n",
       "<table border=\"1\" class=\"dataframe\">\n",
       "  <thead>\n",
       "    <tr style=\"text-align: right;\">\n",
       "      <th></th>\n",
       "      <th>state</th>\n",
       "      <th>incident_id</th>\n",
       "      <th>n_killed</th>\n",
       "      <th>n_injured</th>\n",
       "    </tr>\n",
       "  </thead>\n",
       "  <tbody>\n",
       "    <tr>\n",
       "      <th>0</th>\n",
       "      <td>California</td>\n",
       "      <td>3732</td>\n",
       "      <td>1320</td>\n",
       "      <td>1607</td>\n",
       "    </tr>\n",
       "    <tr>\n",
       "      <th>1</th>\n",
       "      <td>Florida</td>\n",
       "      <td>3138</td>\n",
       "      <td>873</td>\n",
       "      <td>1463</td>\n",
       "    </tr>\n",
       "    <tr>\n",
       "      <th>2</th>\n",
       "      <td>Texas</td>\n",
       "      <td>3133</td>\n",
       "      <td>1094</td>\n",
       "      <td>1157</td>\n",
       "    </tr>\n",
       "    <tr>\n",
       "      <th>3</th>\n",
       "      <td>Illinois</td>\n",
       "      <td>3095</td>\n",
       "      <td>637</td>\n",
       "      <td>2276</td>\n",
       "    </tr>\n",
       "    <tr>\n",
       "      <th>4</th>\n",
       "      <td>Ohio</td>\n",
       "      <td>2368</td>\n",
       "      <td>494</td>\n",
       "      <td>1120</td>\n",
       "    </tr>\n",
       "  </tbody>\n",
       "</table>\n",
       "</div>"
      ],
      "text/plain": [
       "        state  incident_id  n_killed  n_injured\n",
       "0  California         3732      1320       1607\n",
       "1     Florida         3138       873       1463\n",
       "2       Texas         3133      1094       1157\n",
       "3    Illinois         3095       637       2276\n",
       "4        Ohio         2368       494       1120"
      ]
     },
     "execution_count": 23,
     "metadata": {},
     "output_type": "execute_result"
    }
   ],
   "source": [
    "state_df_2014 = df_prime[df_prime['Year']==2014].groupby('state').agg({'incident_id': 'count', 'n_killed': 'sum', 'n_injured': 'sum'}).sort_values(by='incident_id', ascending=False).reset_index()\n",
    "state_df_2015 = df_prime[df_prime['Year']==2015].groupby('state').agg({'incident_id': 'count', 'n_killed': 'sum', 'n_injured': 'sum'}).sort_values(by='incident_id', ascending=False).reset_index()\n",
    "state_df_2016 = df_prime[df_prime['Year']==2016].groupby('state').agg({'incident_id': 'count', 'n_killed': 'sum', 'n_injured': 'sum'}).sort_values(by='incident_id', ascending=False).reset_index()\n",
    "state_df_2017 = df_prime[df_prime['Year']==2017].groupby('state').agg({'incident_id': 'count', 'n_killed': 'sum', 'n_injured': 'sum'}).sort_values(by='incident_id', ascending=False).reset_index()\n",
    "state_df_2014.head()"
   ]
  },
  {
   "cell_type": "code",
   "execution_count": 24,
   "metadata": {
    "scrolled": true
   },
   "outputs": [
    {
     "data": {
      "application/vnd.plotly.v1+json": {
       "config": {
        "linkText": "Export to plot.ly",
        "plotlyServerURL": "https://plot.ly",
        "showLink": false
       },
       "data": [
        {
         "autocolorscale": false,
         "colorbar": {
          "thickness": 10,
          "title": {
           "text": "Incidents - 2014"
          },
          "x": 0.22
         },
         "colorscale": [
          [
           0,
           "#baff00"
          ],
          [
           1,
           "#000000"
          ]
         ],
         "geo": "geo",
         "locationmode": "USA-states",
         "locations": [
          "CA",
          "FL",
          "TX",
          "IL",
          "OH",
          "PA",
          "NC",
          "GA",
          "LA",
          "NY",
          "SC",
          "TN",
          "NJ",
          "MI",
          "AL",
          "VA",
          "MO",
          "MD",
          "IN",
          "WI",
          "KY",
          "MA",
          "dc",
          "MS",
          "WA",
          "OK",
          "CT",
          "AR",
          "IA",
          "CO",
          "AZ",
          "DE",
          "MN",
          "OR",
          "KS",
          "NV",
          "WV",
          "NE",
          "NM",
          "NH",
          "UT",
          "RI",
          "ME",
          "VT",
          "AK",
          "MT",
          "ID",
          "ND",
          "SD",
          "WY",
          "HI"
         ],
         "marker": {
          "line": {
           "color": "rgb(255,255,255)",
           "width": 2
          }
         },
         "text": [
          "California",
          "Florida",
          "Texas",
          "Illinois",
          "Ohio",
          "Pennsylvania",
          "North Carolina",
          "Georgia",
          "Louisiana",
          "New York",
          "South Carolina",
          "Tennessee",
          "New Jersey",
          "Michigan",
          "Alabama",
          "Virginia",
          "Missouri",
          "Maryland",
          "Indiana",
          "Wisconsin",
          "Kentucky",
          "Massachusetts",
          "District of Columbia",
          "Mississippi",
          "Washington",
          "Oklahoma",
          "Connecticut",
          "Arkansas",
          "Iowa",
          "Colorado",
          "Arizona",
          "Delaware",
          "Minnesota",
          "Oregon",
          "Kansas",
          "Nevada",
          "West Virginia",
          "Nebraska",
          "New Mexico",
          "New Hampshire",
          "Utah",
          "Rhode Island",
          "Maine",
          "Vermont",
          "Alaska",
          "Montana",
          "Idaho",
          "North Dakota",
          "South Dakota",
          "Wyoming",
          "Hawaii"
         ],
         "type": "choropleth",
         "z": [
          3732,
          3138,
          3133,
          3095,
          2368,
          2267,
          2165,
          2032,
          1906,
          1903,
          1660,
          1590,
          1521,
          1447,
          1318,
          1273,
          1272,
          1266,
          1203,
          1065,
          977,
          968,
          838,
          784,
          656,
          642,
          583,
          572,
          569,
          556,
          556,
          493,
          450,
          398,
          381,
          376,
          362,
          347,
          320,
          230,
          217,
          189,
          183,
          170,
          146,
          128,
          115,
          110,
          72,
          64,
          48
         ]
        },
        {
         "autocolorscale": false,
         "colorbar": {
          "thickness": 10,
          "title": {
           "text": "Incidents - 2015"
          },
          "x": 0.47
         },
         "colorscale": [
          [
           0,
           "#00baff"
          ],
          [
           1,
           "#000000"
          ]
         ],
         "geo": "geo2",
         "locationmode": "USA-states",
         "locations": [
          "IL",
          "TX",
          "CA",
          "NY",
          "GA",
          "FL",
          "OH",
          "NC",
          "PA",
          "TN",
          "MO",
          "SC",
          "LA",
          "MA",
          "VA",
          "IN",
          "MD",
          "MI",
          "WI",
          "NJ",
          "AL",
          "WA",
          "KY",
          "OK",
          "CO",
          "CT",
          "OR",
          "MS",
          "IA",
          "dc",
          "AR",
          "NV",
          "AZ",
          "KS",
          "MN",
          "NM",
          "AK",
          "NE",
          "DE",
          "WV",
          "UT",
          "ME",
          "RI",
          "NH",
          "WY",
          "ID",
          "ND",
          "MT",
          "VT",
          "SD",
          "HI"
         ],
         "marker": {
          "line": {
           "color": "rgb(255,255,255)",
           "width": 2
          }
         },
         "text": [
          "Illinois",
          "Texas",
          "California",
          "New York",
          "Georgia",
          "Florida",
          "Ohio",
          "North Carolina",
          "Pennsylvania",
          "Tennessee",
          "Missouri",
          "South Carolina",
          "Louisiana",
          "Massachusetts",
          "Virginia",
          "Indiana",
          "Maryland",
          "Michigan",
          "Wisconsin",
          "New Jersey",
          "Alabama",
          "Washington",
          "Kentucky",
          "Oklahoma",
          "Colorado",
          "Connecticut",
          "Oregon",
          "Mississippi",
          "Iowa",
          "District of Columbia",
          "Arkansas",
          "Nevada",
          "Arizona",
          "Kansas",
          "Minnesota",
          "New Mexico",
          "Alaska",
          "Nebraska",
          "Delaware",
          "West Virginia",
          "Utah",
          "Maine",
          "Rhode Island",
          "New Hampshire",
          "Wyoming",
          "Idaho",
          "North Dakota",
          "Montana",
          "Vermont",
          "South Dakota",
          "Hawaii"
         ],
         "type": "choropleth",
         "z": [
          3456,
          3276,
          3234,
          2903,
          2767,
          2702,
          2132,
          1856,
          1789,
          1763,
          1702,
          1696,
          1692,
          1338,
          1326,
          1320,
          1284,
          1268,
          1117,
          1062,
          1034,
          925,
          914,
          840,
          788,
          737,
          686,
          661,
          587,
          538,
          538,
          491,
          480,
          461,
          410,
          395,
          380,
          374,
          366,
          342,
          324,
          231,
          226,
          209,
          198,
          177,
          149,
          140,
          117,
          103,
          75
         ]
        },
        {
         "autocolorscale": false,
         "colorbar": {
          "thickness": 10,
          "title": {
           "text": "Incidents - 2016"
          },
          "x": 0.72
         },
         "colorscale": [
          [
           0,
           "#ffba00"
          ],
          [
           1,
           "#000000"
          ]
         ],
         "geo": "geo3",
         "locationmode": "USA-states",
         "locations": [
          "IL",
          "FL",
          "CA",
          "TX",
          "NY",
          "OH",
          "PA",
          "NC",
          "LA",
          "TN",
          "GA",
          "VA",
          "MO",
          "MA",
          "IN",
          "SC",
          "MI",
          "AL",
          "MD",
          "NJ",
          "KY",
          "OK",
          "WI",
          "MS",
          "CO",
          "CT",
          "WA",
          "AR",
          "IA",
          "KS",
          "AZ",
          "OR",
          "NV",
          "dc",
          "MN",
          "AK",
          "NM",
          "WV",
          "NE",
          "DE",
          "NH",
          "UT",
          "RI",
          "ME",
          "MT",
          "ID",
          "ND",
          "SD",
          "WY",
          "VT",
          "HI"
         ],
         "marker": {
          "line": {
           "color": "rgb(255,255,255)",
           "width": 2
          }
         },
         "text": [
          "Illinois",
          "Florida",
          "California",
          "Texas",
          "New York",
          "Ohio",
          "Pennsylvania",
          "North Carolina",
          "Louisiana",
          "Tennessee",
          "Georgia",
          "Virginia",
          "Missouri",
          "Massachusetts",
          "Indiana",
          "South Carolina",
          "Michigan",
          "Alabama",
          "Maryland",
          "New Jersey",
          "Kentucky",
          "Oklahoma",
          "Wisconsin",
          "Mississippi",
          "Colorado",
          "Connecticut",
          "Washington",
          "Arkansas",
          "Iowa",
          "Kansas",
          "Arizona",
          "Oregon",
          "Nevada",
          "District of Columbia",
          "Minnesota",
          "Alaska",
          "New Mexico",
          "West Virginia",
          "Nebraska",
          "Delaware",
          "New Hampshire",
          "Utah",
          "Rhode Island",
          "Maine",
          "Montana",
          "Idaho",
          "North Dakota",
          "South Dakota",
          "Wyoming",
          "Vermont",
          "Hawaii"
         ],
         "type": "choropleth",
         "z": [
          5055,
          4201,
          3617,
          3606,
          2522,
          2442,
          2185,
          2101,
          2070,
          2014,
          1708,
          1578,
          1552,
          1544,
          1511,
          1490,
          1316,
          1309,
          1293,
          1224,
          1021,
          898,
          859,
          852,
          812,
          803,
          768,
          720,
          659,
          572,
          554,
          552,
          536,
          497,
          468,
          445,
          399,
          399,
          381,
          328,
          272,
          250,
          237,
          232,
          162,
          155,
          150,
          144,
          127,
          94,
          79
         ]
        },
        {
         "autocolorscale": false,
         "colorbar": {
          "thickness": 10,
          "title": {
           "text": "Incidents - 2017"
          },
          "x": 0.98
         },
         "colorscale": [
          [
           0,
           "#f00567"
          ],
          [
           1,
           "#000000"
          ]
         ],
         "geo": "geo4",
         "locationmode": "USA-states",
         "locations": [
          "IL",
          "CA",
          "FL",
          "TX",
          "OH",
          "PA",
          "NC",
          "NY",
          "GA",
          "LA",
          "TN",
          "MA",
          "MO",
          "SC",
          "MD",
          "IN",
          "VA",
          "AL",
          "WI",
          "MI",
          "NJ",
          "dc",
          "KY",
          "MS",
          "WA",
          "OK",
          "AR",
          "CO",
          "CT",
          "MN",
          "AZ",
          "IA",
          "KS",
          "OR",
          "NM",
          "NE",
          "NV",
          "WV",
          "DE",
          "AK",
          "UT",
          "NH",
          "ME",
          "SD",
          "RI",
          "MT",
          "ID",
          "ND",
          "WY",
          "VT",
          "HI"
         ],
         "marker": {
          "line": {
           "color": "rgb(255,255,255)",
           "width": 2
          }
         },
         "text": [
          "Illinois",
          "California",
          "Florida",
          "Texas",
          "Ohio",
          "Pennsylvania",
          "North Carolina",
          "New York",
          "Georgia",
          "Louisiana",
          "Tennessee",
          "Massachusetts",
          "Missouri",
          "South Carolina",
          "Maryland",
          "Indiana",
          "Virginia",
          "Alabama",
          "Wisconsin",
          "Michigan",
          "New Jersey",
          "District of Columbia",
          "Kentucky",
          "Mississippi",
          "Washington",
          "Oklahoma",
          "Arkansas",
          "Colorado",
          "Connecticut",
          "Minnesota",
          "Arizona",
          "Iowa",
          "Kansas",
          "Oregon",
          "New Mexico",
          "Nebraska",
          "Nevada",
          "West Virginia",
          "Delaware",
          "Alaska",
          "Utah",
          "New Hampshire",
          "Maine",
          "South Dakota",
          "Rhode Island",
          "Montana",
          "Idaho",
          "North Dakota",
          "Wyoming",
          "Vermont",
          "Hawaii"
         ],
         "type": "choropleth",
         "z": [
          5089,
          4588,
          4156,
          2875,
          2701,
          2172,
          2141,
          2031,
          1994,
          1987,
          1874,
          1761,
          1730,
          1721,
          1579,
          1483,
          1473,
          1461,
          1369,
          1360,
          1342,
          1142,
          1030,
          1029,
          881,
          866,
          820,
          809,
          780,
          759,
          587,
          586,
          578,
          511,
          448,
          439,
          437,
          390,
          389,
          317,
          224,
          206,
          203,
          199,
          191,
          167,
          163,
          133,
          91,
          71,
          68
         ]
        }
       ],
       "layout": {
        "geo": {
         "domain": {
          "x": [
           0,
           0.25
          ],
          "y": [
           0,
           1
          ]
         },
         "lakecolor": "rgb(255, 255, 255)",
         "landcolor": "rgb(229, 229, 229)",
         "projection": {
          "type": "albers usa"
         },
         "scope": "usa",
         "showlakes": true,
         "showland": true,
         "subunitcolor": "rgb(255, 255, 255)"
        },
        "geo2": {
         "domain": {
          "x": [
           0.25,
           0.5
          ],
          "y": [
           0,
           1
          ]
         },
         "lakecolor": "rgb(255, 255, 255)",
         "landcolor": "rgb(229, 229, 229)",
         "projection": {
          "type": "albers usa"
         },
         "scope": "usa",
         "showlakes": true,
         "showland": true,
         "subunitcolor": "rgb(255, 255, 255)"
        },
        "geo3": {
         "domain": {
          "x": [
           0.5,
           0.75
          ],
          "y": [
           0,
           1
          ]
         },
         "lakecolor": "rgb(255, 255, 255)",
         "landcolor": "rgb(229, 229, 229)",
         "projection": {
          "type": "albers usa"
         },
         "scope": "usa",
         "showlakes": true,
         "showland": true,
         "subunitcolor": "rgb(255, 255, 255)"
        },
        "geo4": {
         "domain": {
          "x": [
           0.75,
           1
          ],
          "y": [
           0,
           1
          ]
         },
         "lakecolor": "rgb(255, 255, 255)",
         "landcolor": "rgb(229, 229, 229)",
         "projection": {
          "type": "albers usa"
         },
         "scope": "usa",
         "showlakes": true,
         "showland": true,
         "subunitcolor": "rgb(255, 255, 255)"
        },
        "height": 400,
        "hovermode": false,
        "template": {
         "data": {
          "bar": [
           {
            "error_x": {
             "color": "#2a3f5f"
            },
            "error_y": {
             "color": "#2a3f5f"
            },
            "marker": {
             "line": {
              "color": "#E5ECF6",
              "width": 0.5
             }
            },
            "type": "bar"
           }
          ],
          "barpolar": [
           {
            "marker": {
             "line": {
              "color": "#E5ECF6",
              "width": 0.5
             }
            },
            "type": "barpolar"
           }
          ],
          "carpet": [
           {
            "aaxis": {
             "endlinecolor": "#2a3f5f",
             "gridcolor": "white",
             "linecolor": "white",
             "minorgridcolor": "white",
             "startlinecolor": "#2a3f5f"
            },
            "baxis": {
             "endlinecolor": "#2a3f5f",
             "gridcolor": "white",
             "linecolor": "white",
             "minorgridcolor": "white",
             "startlinecolor": "#2a3f5f"
            },
            "type": "carpet"
           }
          ],
          "choropleth": [
           {
            "colorbar": {
             "outlinewidth": 0,
             "ticks": ""
            },
            "type": "choropleth"
           }
          ],
          "contour": [
           {
            "colorbar": {
             "outlinewidth": 0,
             "ticks": ""
            },
            "colorscale": [
             [
              0,
              "#0d0887"
             ],
             [
              0.1111111111111111,
              "#46039f"
             ],
             [
              0.2222222222222222,
              "#7201a8"
             ],
             [
              0.3333333333333333,
              "#9c179e"
             ],
             [
              0.4444444444444444,
              "#bd3786"
             ],
             [
              0.5555555555555556,
              "#d8576b"
             ],
             [
              0.6666666666666666,
              "#ed7953"
             ],
             [
              0.7777777777777778,
              "#fb9f3a"
             ],
             [
              0.8888888888888888,
              "#fdca26"
             ],
             [
              1,
              "#f0f921"
             ]
            ],
            "type": "contour"
           }
          ],
          "contourcarpet": [
           {
            "colorbar": {
             "outlinewidth": 0,
             "ticks": ""
            },
            "type": "contourcarpet"
           }
          ],
          "heatmap": [
           {
            "colorbar": {
             "outlinewidth": 0,
             "ticks": ""
            },
            "colorscale": [
             [
              0,
              "#0d0887"
             ],
             [
              0.1111111111111111,
              "#46039f"
             ],
             [
              0.2222222222222222,
              "#7201a8"
             ],
             [
              0.3333333333333333,
              "#9c179e"
             ],
             [
              0.4444444444444444,
              "#bd3786"
             ],
             [
              0.5555555555555556,
              "#d8576b"
             ],
             [
              0.6666666666666666,
              "#ed7953"
             ],
             [
              0.7777777777777778,
              "#fb9f3a"
             ],
             [
              0.8888888888888888,
              "#fdca26"
             ],
             [
              1,
              "#f0f921"
             ]
            ],
            "type": "heatmap"
           }
          ],
          "heatmapgl": [
           {
            "colorbar": {
             "outlinewidth": 0,
             "ticks": ""
            },
            "colorscale": [
             [
              0,
              "#0d0887"
             ],
             [
              0.1111111111111111,
              "#46039f"
             ],
             [
              0.2222222222222222,
              "#7201a8"
             ],
             [
              0.3333333333333333,
              "#9c179e"
             ],
             [
              0.4444444444444444,
              "#bd3786"
             ],
             [
              0.5555555555555556,
              "#d8576b"
             ],
             [
              0.6666666666666666,
              "#ed7953"
             ],
             [
              0.7777777777777778,
              "#fb9f3a"
             ],
             [
              0.8888888888888888,
              "#fdca26"
             ],
             [
              1,
              "#f0f921"
             ]
            ],
            "type": "heatmapgl"
           }
          ],
          "histogram": [
           {
            "marker": {
             "colorbar": {
              "outlinewidth": 0,
              "ticks": ""
             }
            },
            "type": "histogram"
           }
          ],
          "histogram2d": [
           {
            "colorbar": {
             "outlinewidth": 0,
             "ticks": ""
            },
            "colorscale": [
             [
              0,
              "#0d0887"
             ],
             [
              0.1111111111111111,
              "#46039f"
             ],
             [
              0.2222222222222222,
              "#7201a8"
             ],
             [
              0.3333333333333333,
              "#9c179e"
             ],
             [
              0.4444444444444444,
              "#bd3786"
             ],
             [
              0.5555555555555556,
              "#d8576b"
             ],
             [
              0.6666666666666666,
              "#ed7953"
             ],
             [
              0.7777777777777778,
              "#fb9f3a"
             ],
             [
              0.8888888888888888,
              "#fdca26"
             ],
             [
              1,
              "#f0f921"
             ]
            ],
            "type": "histogram2d"
           }
          ],
          "histogram2dcontour": [
           {
            "colorbar": {
             "outlinewidth": 0,
             "ticks": ""
            },
            "colorscale": [
             [
              0,
              "#0d0887"
             ],
             [
              0.1111111111111111,
              "#46039f"
             ],
             [
              0.2222222222222222,
              "#7201a8"
             ],
             [
              0.3333333333333333,
              "#9c179e"
             ],
             [
              0.4444444444444444,
              "#bd3786"
             ],
             [
              0.5555555555555556,
              "#d8576b"
             ],
             [
              0.6666666666666666,
              "#ed7953"
             ],
             [
              0.7777777777777778,
              "#fb9f3a"
             ],
             [
              0.8888888888888888,
              "#fdca26"
             ],
             [
              1,
              "#f0f921"
             ]
            ],
            "type": "histogram2dcontour"
           }
          ],
          "mesh3d": [
           {
            "colorbar": {
             "outlinewidth": 0,
             "ticks": ""
            },
            "type": "mesh3d"
           }
          ],
          "parcoords": [
           {
            "line": {
             "colorbar": {
              "outlinewidth": 0,
              "ticks": ""
             }
            },
            "type": "parcoords"
           }
          ],
          "pie": [
           {
            "automargin": true,
            "type": "pie"
           }
          ],
          "scatter": [
           {
            "marker": {
             "colorbar": {
              "outlinewidth": 0,
              "ticks": ""
             }
            },
            "type": "scatter"
           }
          ],
          "scatter3d": [
           {
            "line": {
             "colorbar": {
              "outlinewidth": 0,
              "ticks": ""
             }
            },
            "marker": {
             "colorbar": {
              "outlinewidth": 0,
              "ticks": ""
             }
            },
            "type": "scatter3d"
           }
          ],
          "scattercarpet": [
           {
            "marker": {
             "colorbar": {
              "outlinewidth": 0,
              "ticks": ""
             }
            },
            "type": "scattercarpet"
           }
          ],
          "scattergeo": [
           {
            "marker": {
             "colorbar": {
              "outlinewidth": 0,
              "ticks": ""
             }
            },
            "type": "scattergeo"
           }
          ],
          "scattergl": [
           {
            "marker": {
             "colorbar": {
              "outlinewidth": 0,
              "ticks": ""
             }
            },
            "type": "scattergl"
           }
          ],
          "scattermapbox": [
           {
            "marker": {
             "colorbar": {
              "outlinewidth": 0,
              "ticks": ""
             }
            },
            "type": "scattermapbox"
           }
          ],
          "scatterpolar": [
           {
            "marker": {
             "colorbar": {
              "outlinewidth": 0,
              "ticks": ""
             }
            },
            "type": "scatterpolar"
           }
          ],
          "scatterpolargl": [
           {
            "marker": {
             "colorbar": {
              "outlinewidth": 0,
              "ticks": ""
             }
            },
            "type": "scatterpolargl"
           }
          ],
          "scatterternary": [
           {
            "marker": {
             "colorbar": {
              "outlinewidth": 0,
              "ticks": ""
             }
            },
            "type": "scatterternary"
           }
          ],
          "surface": [
           {
            "colorbar": {
             "outlinewidth": 0,
             "ticks": ""
            },
            "colorscale": [
             [
              0,
              "#0d0887"
             ],
             [
              0.1111111111111111,
              "#46039f"
             ],
             [
              0.2222222222222222,
              "#7201a8"
             ],
             [
              0.3333333333333333,
              "#9c179e"
             ],
             [
              0.4444444444444444,
              "#bd3786"
             ],
             [
              0.5555555555555556,
              "#d8576b"
             ],
             [
              0.6666666666666666,
              "#ed7953"
             ],
             [
              0.7777777777777778,
              "#fb9f3a"
             ],
             [
              0.8888888888888888,
              "#fdca26"
             ],
             [
              1,
              "#f0f921"
             ]
            ],
            "type": "surface"
           }
          ],
          "table": [
           {
            "cells": {
             "fill": {
              "color": "#EBF0F8"
             },
             "line": {
              "color": "white"
             }
            },
            "header": {
             "fill": {
              "color": "#C8D4E3"
             },
             "line": {
              "color": "white"
             }
            },
            "type": "table"
           }
          ]
         },
         "layout": {
          "annotationdefaults": {
           "arrowcolor": "#2a3f5f",
           "arrowhead": 0,
           "arrowwidth": 1
          },
          "coloraxis": {
           "colorbar": {
            "outlinewidth": 0,
            "ticks": ""
           }
          },
          "colorscale": {
           "diverging": [
            [
             0,
             "#8e0152"
            ],
            [
             0.1,
             "#c51b7d"
            ],
            [
             0.2,
             "#de77ae"
            ],
            [
             0.3,
             "#f1b6da"
            ],
            [
             0.4,
             "#fde0ef"
            ],
            [
             0.5,
             "#f7f7f7"
            ],
            [
             0.6,
             "#e6f5d0"
            ],
            [
             0.7,
             "#b8e186"
            ],
            [
             0.8,
             "#7fbc41"
            ],
            [
             0.9,
             "#4d9221"
            ],
            [
             1,
             "#276419"
            ]
           ],
           "sequential": [
            [
             0,
             "#0d0887"
            ],
            [
             0.1111111111111111,
             "#46039f"
            ],
            [
             0.2222222222222222,
             "#7201a8"
            ],
            [
             0.3333333333333333,
             "#9c179e"
            ],
            [
             0.4444444444444444,
             "#bd3786"
            ],
            [
             0.5555555555555556,
             "#d8576b"
            ],
            [
             0.6666666666666666,
             "#ed7953"
            ],
            [
             0.7777777777777778,
             "#fb9f3a"
            ],
            [
             0.8888888888888888,
             "#fdca26"
            ],
            [
             1,
             "#f0f921"
            ]
           ],
           "sequentialminus": [
            [
             0,
             "#0d0887"
            ],
            [
             0.1111111111111111,
             "#46039f"
            ],
            [
             0.2222222222222222,
             "#7201a8"
            ],
            [
             0.3333333333333333,
             "#9c179e"
            ],
            [
             0.4444444444444444,
             "#bd3786"
            ],
            [
             0.5555555555555556,
             "#d8576b"
            ],
            [
             0.6666666666666666,
             "#ed7953"
            ],
            [
             0.7777777777777778,
             "#fb9f3a"
            ],
            [
             0.8888888888888888,
             "#fdca26"
            ],
            [
             1,
             "#f0f921"
            ]
           ]
          },
          "colorway": [
           "#636efa",
           "#EF553B",
           "#00cc96",
           "#ab63fa",
           "#FFA15A",
           "#19d3f3",
           "#FF6692",
           "#B6E880",
           "#FF97FF",
           "#FECB52"
          ],
          "font": {
           "color": "#2a3f5f"
          },
          "geo": {
           "bgcolor": "white",
           "lakecolor": "white",
           "landcolor": "#E5ECF6",
           "showlakes": true,
           "showland": true,
           "subunitcolor": "white"
          },
          "hoverlabel": {
           "align": "left"
          },
          "hovermode": "closest",
          "mapbox": {
           "style": "light"
          },
          "paper_bgcolor": "white",
          "plot_bgcolor": "#E5ECF6",
          "polar": {
           "angularaxis": {
            "gridcolor": "white",
            "linecolor": "white",
            "ticks": ""
           },
           "bgcolor": "#E5ECF6",
           "radialaxis": {
            "gridcolor": "white",
            "linecolor": "white",
            "ticks": ""
           }
          },
          "scene": {
           "xaxis": {
            "backgroundcolor": "#E5ECF6",
            "gridcolor": "white",
            "gridwidth": 2,
            "linecolor": "white",
            "showbackground": true,
            "ticks": "",
            "zerolinecolor": "white"
           },
           "yaxis": {
            "backgroundcolor": "#E5ECF6",
            "gridcolor": "white",
            "gridwidth": 2,
            "linecolor": "white",
            "showbackground": true,
            "ticks": "",
            "zerolinecolor": "white"
           },
           "zaxis": {
            "backgroundcolor": "#E5ECF6",
            "gridcolor": "white",
            "gridwidth": 2,
            "linecolor": "white",
            "showbackground": true,
            "ticks": "",
            "zerolinecolor": "white"
           }
          },
          "shapedefaults": {
           "line": {
            "color": "#2a3f5f"
           }
          },
          "ternary": {
           "aaxis": {
            "gridcolor": "white",
            "linecolor": "white",
            "ticks": ""
           },
           "baxis": {
            "gridcolor": "white",
            "linecolor": "white",
            "ticks": ""
           },
           "bgcolor": "#E5ECF6",
           "caxis": {
            "gridcolor": "white",
            "linecolor": "white",
            "ticks": ""
           }
          },
          "title": {
           "x": 0.05
          },
          "xaxis": {
           "automargin": true,
           "gridcolor": "white",
           "linecolor": "white",
           "ticks": "",
           "title": {
            "standoff": 15
           },
           "zerolinecolor": "white",
           "zerolinewidth": 2
          },
          "yaxis": {
           "automargin": true,
           "gridcolor": "white",
           "linecolor": "white",
           "ticks": "",
           "title": {
            "standoff": 15
           },
           "zerolinecolor": "white",
           "zerolinewidth": 2
          }
         }
        },
        "title": {
         "text": "Incidents grouped by state"
        },
        "width": 1000
       }
      },
      "text/html": [
       "<div>\n",
       "        \n",
       "        \n",
       "            <div id=\"c36492d0-1374-48b4-8eb3-88601eea94d2\" class=\"plotly-graph-div\" style=\"height:400px; width:1000px;\"></div>\n",
       "            <script type=\"text/javascript\">\n",
       "                require([\"plotly\"], function(Plotly) {\n",
       "                    window.PLOTLYENV=window.PLOTLYENV || {};\n",
       "                    \n",
       "                if (document.getElementById(\"c36492d0-1374-48b4-8eb3-88601eea94d2\")) {\n",
       "                    Plotly.newPlot(\n",
       "                        'c36492d0-1374-48b4-8eb3-88601eea94d2',\n",
       "                        [{\"autocolorscale\": false, \"colorbar\": {\"thickness\": 10, \"title\": {\"text\": \"Incidents - 2014\"}, \"x\": 0.22}, \"colorscale\": [[0.0, \"#baff00\"], [1.0, \"#000000\"]], \"geo\": \"geo\", \"locationmode\": \"USA-states\", \"locations\": [\"CA\", \"FL\", \"TX\", \"IL\", \"OH\", \"PA\", \"NC\", \"GA\", \"LA\", \"NY\", \"SC\", \"TN\", \"NJ\", \"MI\", \"AL\", \"VA\", \"MO\", \"MD\", \"IN\", \"WI\", \"KY\", \"MA\", \"dc\", \"MS\", \"WA\", \"OK\", \"CT\", \"AR\", \"IA\", \"CO\", \"AZ\", \"DE\", \"MN\", \"OR\", \"KS\", \"NV\", \"WV\", \"NE\", \"NM\", \"NH\", \"UT\", \"RI\", \"ME\", \"VT\", \"AK\", \"MT\", \"ID\", \"ND\", \"SD\", \"WY\", \"HI\"], \"marker\": {\"line\": {\"color\": \"rgb(255,255,255)\", \"width\": 2}}, \"text\": [\"California\", \"Florida\", \"Texas\", \"Illinois\", \"Ohio\", \"Pennsylvania\", \"North Carolina\", \"Georgia\", \"Louisiana\", \"New York\", \"South Carolina\", \"Tennessee\", \"New Jersey\", \"Michigan\", \"Alabama\", \"Virginia\", \"Missouri\", \"Maryland\", \"Indiana\", \"Wisconsin\", \"Kentucky\", \"Massachusetts\", \"District of Columbia\", \"Mississippi\", \"Washington\", \"Oklahoma\", \"Connecticut\", \"Arkansas\", \"Iowa\", \"Colorado\", \"Arizona\", \"Delaware\", \"Minnesota\", \"Oregon\", \"Kansas\", \"Nevada\", \"West Virginia\", \"Nebraska\", \"New Mexico\", \"New Hampshire\", \"Utah\", \"Rhode Island\", \"Maine\", \"Vermont\", \"Alaska\", \"Montana\", \"Idaho\", \"North Dakota\", \"South Dakota\", \"Wyoming\", \"Hawaii\"], \"type\": \"choropleth\", \"z\": [3732, 3138, 3133, 3095, 2368, 2267, 2165, 2032, 1906, 1903, 1660, 1590, 1521, 1447, 1318, 1273, 1272, 1266, 1203, 1065, 977, 968, 838, 784, 656, 642, 583, 572, 569, 556, 556, 493, 450, 398, 381, 376, 362, 347, 320, 230, 217, 189, 183, 170, 146, 128, 115, 110, 72, 64, 48]}, {\"autocolorscale\": false, \"colorbar\": {\"thickness\": 10, \"title\": {\"text\": \"Incidents - 2015\"}, \"x\": 0.47}, \"colorscale\": [[0.0, \"#00baff\"], [1.0, \"#000000\"]], \"geo\": \"geo2\", \"locationmode\": \"USA-states\", \"locations\": [\"IL\", \"TX\", \"CA\", \"NY\", \"GA\", \"FL\", \"OH\", \"NC\", \"PA\", \"TN\", \"MO\", \"SC\", \"LA\", \"MA\", \"VA\", \"IN\", \"MD\", \"MI\", \"WI\", \"NJ\", \"AL\", \"WA\", \"KY\", \"OK\", \"CO\", \"CT\", \"OR\", \"MS\", \"IA\", \"dc\", \"AR\", \"NV\", \"AZ\", \"KS\", \"MN\", \"NM\", \"AK\", \"NE\", \"DE\", \"WV\", \"UT\", \"ME\", \"RI\", \"NH\", \"WY\", \"ID\", \"ND\", \"MT\", \"VT\", \"SD\", \"HI\"], \"marker\": {\"line\": {\"color\": \"rgb(255,255,255)\", \"width\": 2}}, \"text\": [\"Illinois\", \"Texas\", \"California\", \"New York\", \"Georgia\", \"Florida\", \"Ohio\", \"North Carolina\", \"Pennsylvania\", \"Tennessee\", \"Missouri\", \"South Carolina\", \"Louisiana\", \"Massachusetts\", \"Virginia\", \"Indiana\", \"Maryland\", \"Michigan\", \"Wisconsin\", \"New Jersey\", \"Alabama\", \"Washington\", \"Kentucky\", \"Oklahoma\", \"Colorado\", \"Connecticut\", \"Oregon\", \"Mississippi\", \"Iowa\", \"District of Columbia\", \"Arkansas\", \"Nevada\", \"Arizona\", \"Kansas\", \"Minnesota\", \"New Mexico\", \"Alaska\", \"Nebraska\", \"Delaware\", \"West Virginia\", \"Utah\", \"Maine\", \"Rhode Island\", \"New Hampshire\", \"Wyoming\", \"Idaho\", \"North Dakota\", \"Montana\", \"Vermont\", \"South Dakota\", \"Hawaii\"], \"type\": \"choropleth\", \"z\": [3456, 3276, 3234, 2903, 2767, 2702, 2132, 1856, 1789, 1763, 1702, 1696, 1692, 1338, 1326, 1320, 1284, 1268, 1117, 1062, 1034, 925, 914, 840, 788, 737, 686, 661, 587, 538, 538, 491, 480, 461, 410, 395, 380, 374, 366, 342, 324, 231, 226, 209, 198, 177, 149, 140, 117, 103, 75]}, {\"autocolorscale\": false, \"colorbar\": {\"thickness\": 10, \"title\": {\"text\": \"Incidents - 2016\"}, \"x\": 0.72}, \"colorscale\": [[0.0, \"#ffba00\"], [1.0, \"#000000\"]], \"geo\": \"geo3\", \"locationmode\": \"USA-states\", \"locations\": [\"IL\", \"FL\", \"CA\", \"TX\", \"NY\", \"OH\", \"PA\", \"NC\", \"LA\", \"TN\", \"GA\", \"VA\", \"MO\", \"MA\", \"IN\", \"SC\", \"MI\", \"AL\", \"MD\", \"NJ\", \"KY\", \"OK\", \"WI\", \"MS\", \"CO\", \"CT\", \"WA\", \"AR\", \"IA\", \"KS\", \"AZ\", \"OR\", \"NV\", \"dc\", \"MN\", \"AK\", \"NM\", \"WV\", \"NE\", \"DE\", \"NH\", \"UT\", \"RI\", \"ME\", \"MT\", \"ID\", \"ND\", \"SD\", \"WY\", \"VT\", \"HI\"], \"marker\": {\"line\": {\"color\": \"rgb(255,255,255)\", \"width\": 2}}, \"text\": [\"Illinois\", \"Florida\", \"California\", \"Texas\", \"New York\", \"Ohio\", \"Pennsylvania\", \"North Carolina\", \"Louisiana\", \"Tennessee\", \"Georgia\", \"Virginia\", \"Missouri\", \"Massachusetts\", \"Indiana\", \"South Carolina\", \"Michigan\", \"Alabama\", \"Maryland\", \"New Jersey\", \"Kentucky\", \"Oklahoma\", \"Wisconsin\", \"Mississippi\", \"Colorado\", \"Connecticut\", \"Washington\", \"Arkansas\", \"Iowa\", \"Kansas\", \"Arizona\", \"Oregon\", \"Nevada\", \"District of Columbia\", \"Minnesota\", \"Alaska\", \"New Mexico\", \"West Virginia\", \"Nebraska\", \"Delaware\", \"New Hampshire\", \"Utah\", \"Rhode Island\", \"Maine\", \"Montana\", \"Idaho\", \"North Dakota\", \"South Dakota\", \"Wyoming\", \"Vermont\", \"Hawaii\"], \"type\": \"choropleth\", \"z\": [5055, 4201, 3617, 3606, 2522, 2442, 2185, 2101, 2070, 2014, 1708, 1578, 1552, 1544, 1511, 1490, 1316, 1309, 1293, 1224, 1021, 898, 859, 852, 812, 803, 768, 720, 659, 572, 554, 552, 536, 497, 468, 445, 399, 399, 381, 328, 272, 250, 237, 232, 162, 155, 150, 144, 127, 94, 79]}, {\"autocolorscale\": false, \"colorbar\": {\"thickness\": 10, \"title\": {\"text\": \"Incidents - 2017\"}, \"x\": 0.98}, \"colorscale\": [[0.0, \"#f00567\"], [1.0, \"#000000\"]], \"geo\": \"geo4\", \"locationmode\": \"USA-states\", \"locations\": [\"IL\", \"CA\", \"FL\", \"TX\", \"OH\", \"PA\", \"NC\", \"NY\", \"GA\", \"LA\", \"TN\", \"MA\", \"MO\", \"SC\", \"MD\", \"IN\", \"VA\", \"AL\", \"WI\", \"MI\", \"NJ\", \"dc\", \"KY\", \"MS\", \"WA\", \"OK\", \"AR\", \"CO\", \"CT\", \"MN\", \"AZ\", \"IA\", \"KS\", \"OR\", \"NM\", \"NE\", \"NV\", \"WV\", \"DE\", \"AK\", \"UT\", \"NH\", \"ME\", \"SD\", \"RI\", \"MT\", \"ID\", \"ND\", \"WY\", \"VT\", \"HI\"], \"marker\": {\"line\": {\"color\": \"rgb(255,255,255)\", \"width\": 2}}, \"text\": [\"Illinois\", \"California\", \"Florida\", \"Texas\", \"Ohio\", \"Pennsylvania\", \"North Carolina\", \"New York\", \"Georgia\", \"Louisiana\", \"Tennessee\", \"Massachusetts\", \"Missouri\", \"South Carolina\", \"Maryland\", \"Indiana\", \"Virginia\", \"Alabama\", \"Wisconsin\", \"Michigan\", \"New Jersey\", \"District of Columbia\", \"Kentucky\", \"Mississippi\", \"Washington\", \"Oklahoma\", \"Arkansas\", \"Colorado\", \"Connecticut\", \"Minnesota\", \"Arizona\", \"Iowa\", \"Kansas\", \"Oregon\", \"New Mexico\", \"Nebraska\", \"Nevada\", \"West Virginia\", \"Delaware\", \"Alaska\", \"Utah\", \"New Hampshire\", \"Maine\", \"South Dakota\", \"Rhode Island\", \"Montana\", \"Idaho\", \"North Dakota\", \"Wyoming\", \"Vermont\", \"Hawaii\"], \"type\": \"choropleth\", \"z\": [5089, 4588, 4156, 2875, 2701, 2172, 2141, 2031, 1994, 1987, 1874, 1761, 1730, 1721, 1579, 1483, 1473, 1461, 1369, 1360, 1342, 1142, 1030, 1029, 881, 866, 820, 809, 780, 759, 587, 586, 578, 511, 448, 439, 437, 390, 389, 317, 224, 206, 203, 199, 191, 167, 163, 133, 91, 71, 68]}],\n",
       "                        {\"geo\": {\"domain\": {\"x\": [0.0, 0.25], \"y\": [0, 1]}, \"lakecolor\": \"rgb(255, 255, 255)\", \"landcolor\": \"rgb(229, 229, 229)\", \"projection\": {\"type\": \"albers usa\"}, \"scope\": \"usa\", \"showlakes\": true, \"showland\": true, \"subunitcolor\": \"rgb(255, 255, 255)\"}, \"geo2\": {\"domain\": {\"x\": [0.25, 0.5], \"y\": [0, 1]}, \"lakecolor\": \"rgb(255, 255, 255)\", \"landcolor\": \"rgb(229, 229, 229)\", \"projection\": {\"type\": \"albers usa\"}, \"scope\": \"usa\", \"showlakes\": true, \"showland\": true, \"subunitcolor\": \"rgb(255, 255, 255)\"}, \"geo3\": {\"domain\": {\"x\": [0.5, 0.75], \"y\": [0, 1]}, \"lakecolor\": \"rgb(255, 255, 255)\", \"landcolor\": \"rgb(229, 229, 229)\", \"projection\": {\"type\": \"albers usa\"}, \"scope\": \"usa\", \"showlakes\": true, \"showland\": true, \"subunitcolor\": \"rgb(255, 255, 255)\"}, \"geo4\": {\"domain\": {\"x\": [0.75, 1.0], \"y\": [0, 1]}, \"lakecolor\": \"rgb(255, 255, 255)\", \"landcolor\": \"rgb(229, 229, 229)\", \"projection\": {\"type\": \"albers usa\"}, \"scope\": \"usa\", \"showlakes\": true, \"showland\": true, \"subunitcolor\": \"rgb(255, 255, 255)\"}, \"height\": 400, \"hovermode\": false, \"template\": {\"data\": {\"bar\": [{\"error_x\": {\"color\": \"#2a3f5f\"}, \"error_y\": {\"color\": \"#2a3f5f\"}, \"marker\": {\"line\": {\"color\": \"#E5ECF6\", \"width\": 0.5}}, \"type\": \"bar\"}], \"barpolar\": [{\"marker\": {\"line\": {\"color\": \"#E5ECF6\", \"width\": 0.5}}, \"type\": \"barpolar\"}], \"carpet\": [{\"aaxis\": {\"endlinecolor\": \"#2a3f5f\", \"gridcolor\": \"white\", \"linecolor\": \"white\", \"minorgridcolor\": \"white\", \"startlinecolor\": \"#2a3f5f\"}, \"baxis\": {\"endlinecolor\": \"#2a3f5f\", \"gridcolor\": \"white\", \"linecolor\": \"white\", \"minorgridcolor\": \"white\", \"startlinecolor\": \"#2a3f5f\"}, \"type\": \"carpet\"}], \"choropleth\": [{\"colorbar\": {\"outlinewidth\": 0, \"ticks\": \"\"}, \"type\": \"choropleth\"}], \"contour\": [{\"colorbar\": {\"outlinewidth\": 0, \"ticks\": \"\"}, \"colorscale\": [[0.0, \"#0d0887\"], [0.1111111111111111, \"#46039f\"], [0.2222222222222222, \"#7201a8\"], [0.3333333333333333, \"#9c179e\"], [0.4444444444444444, \"#bd3786\"], [0.5555555555555556, \"#d8576b\"], [0.6666666666666666, \"#ed7953\"], [0.7777777777777778, \"#fb9f3a\"], [0.8888888888888888, \"#fdca26\"], [1.0, \"#f0f921\"]], \"type\": \"contour\"}], \"contourcarpet\": [{\"colorbar\": {\"outlinewidth\": 0, \"ticks\": \"\"}, \"type\": \"contourcarpet\"}], \"heatmap\": [{\"colorbar\": {\"outlinewidth\": 0, \"ticks\": \"\"}, \"colorscale\": [[0.0, \"#0d0887\"], [0.1111111111111111, \"#46039f\"], [0.2222222222222222, \"#7201a8\"], [0.3333333333333333, \"#9c179e\"], [0.4444444444444444, \"#bd3786\"], [0.5555555555555556, \"#d8576b\"], [0.6666666666666666, \"#ed7953\"], [0.7777777777777778, \"#fb9f3a\"], [0.8888888888888888, \"#fdca26\"], [1.0, \"#f0f921\"]], \"type\": \"heatmap\"}], \"heatmapgl\": [{\"colorbar\": {\"outlinewidth\": 0, \"ticks\": \"\"}, \"colorscale\": [[0.0, \"#0d0887\"], [0.1111111111111111, \"#46039f\"], [0.2222222222222222, \"#7201a8\"], [0.3333333333333333, \"#9c179e\"], [0.4444444444444444, \"#bd3786\"], [0.5555555555555556, \"#d8576b\"], [0.6666666666666666, \"#ed7953\"], [0.7777777777777778, \"#fb9f3a\"], [0.8888888888888888, \"#fdca26\"], [1.0, \"#f0f921\"]], \"type\": \"heatmapgl\"}], \"histogram\": [{\"marker\": {\"colorbar\": {\"outlinewidth\": 0, \"ticks\": \"\"}}, \"type\": \"histogram\"}], \"histogram2d\": [{\"colorbar\": {\"outlinewidth\": 0, \"ticks\": \"\"}, \"colorscale\": [[0.0, \"#0d0887\"], [0.1111111111111111, \"#46039f\"], [0.2222222222222222, \"#7201a8\"], [0.3333333333333333, \"#9c179e\"], [0.4444444444444444, \"#bd3786\"], [0.5555555555555556, \"#d8576b\"], [0.6666666666666666, \"#ed7953\"], [0.7777777777777778, \"#fb9f3a\"], [0.8888888888888888, \"#fdca26\"], [1.0, \"#f0f921\"]], \"type\": \"histogram2d\"}], \"histogram2dcontour\": [{\"colorbar\": {\"outlinewidth\": 0, \"ticks\": \"\"}, \"colorscale\": [[0.0, \"#0d0887\"], [0.1111111111111111, \"#46039f\"], [0.2222222222222222, \"#7201a8\"], [0.3333333333333333, \"#9c179e\"], [0.4444444444444444, \"#bd3786\"], [0.5555555555555556, \"#d8576b\"], [0.6666666666666666, \"#ed7953\"], [0.7777777777777778, \"#fb9f3a\"], [0.8888888888888888, \"#fdca26\"], [1.0, \"#f0f921\"]], \"type\": \"histogram2dcontour\"}], \"mesh3d\": [{\"colorbar\": {\"outlinewidth\": 0, \"ticks\": \"\"}, \"type\": \"mesh3d\"}], \"parcoords\": [{\"line\": {\"colorbar\": {\"outlinewidth\": 0, \"ticks\": \"\"}}, \"type\": \"parcoords\"}], \"pie\": [{\"automargin\": true, \"type\": \"pie\"}], \"scatter\": [{\"marker\": {\"colorbar\": {\"outlinewidth\": 0, \"ticks\": \"\"}}, \"type\": \"scatter\"}], \"scatter3d\": [{\"line\": {\"colorbar\": {\"outlinewidth\": 0, \"ticks\": \"\"}}, \"marker\": {\"colorbar\": {\"outlinewidth\": 0, \"ticks\": \"\"}}, \"type\": \"scatter3d\"}], \"scattercarpet\": [{\"marker\": {\"colorbar\": {\"outlinewidth\": 0, \"ticks\": \"\"}}, \"type\": \"scattercarpet\"}], \"scattergeo\": [{\"marker\": {\"colorbar\": {\"outlinewidth\": 0, \"ticks\": \"\"}}, \"type\": \"scattergeo\"}], \"scattergl\": [{\"marker\": {\"colorbar\": {\"outlinewidth\": 0, \"ticks\": \"\"}}, \"type\": \"scattergl\"}], \"scattermapbox\": [{\"marker\": {\"colorbar\": {\"outlinewidth\": 0, \"ticks\": \"\"}}, \"type\": \"scattermapbox\"}], \"scatterpolar\": [{\"marker\": {\"colorbar\": {\"outlinewidth\": 0, \"ticks\": \"\"}}, \"type\": \"scatterpolar\"}], \"scatterpolargl\": [{\"marker\": {\"colorbar\": {\"outlinewidth\": 0, \"ticks\": \"\"}}, \"type\": \"scatterpolargl\"}], \"scatterternary\": [{\"marker\": {\"colorbar\": {\"outlinewidth\": 0, \"ticks\": \"\"}}, \"type\": \"scatterternary\"}], \"surface\": [{\"colorbar\": {\"outlinewidth\": 0, \"ticks\": \"\"}, \"colorscale\": [[0.0, \"#0d0887\"], [0.1111111111111111, \"#46039f\"], [0.2222222222222222, \"#7201a8\"], [0.3333333333333333, \"#9c179e\"], [0.4444444444444444, \"#bd3786\"], [0.5555555555555556, \"#d8576b\"], [0.6666666666666666, \"#ed7953\"], [0.7777777777777778, \"#fb9f3a\"], [0.8888888888888888, \"#fdca26\"], [1.0, \"#f0f921\"]], \"type\": \"surface\"}], \"table\": [{\"cells\": {\"fill\": {\"color\": \"#EBF0F8\"}, \"line\": {\"color\": \"white\"}}, \"header\": {\"fill\": {\"color\": \"#C8D4E3\"}, \"line\": {\"color\": \"white\"}}, \"type\": \"table\"}]}, \"layout\": {\"annotationdefaults\": {\"arrowcolor\": \"#2a3f5f\", \"arrowhead\": 0, \"arrowwidth\": 1}, \"coloraxis\": {\"colorbar\": {\"outlinewidth\": 0, \"ticks\": \"\"}}, \"colorscale\": {\"diverging\": [[0, \"#8e0152\"], [0.1, \"#c51b7d\"], [0.2, \"#de77ae\"], [0.3, \"#f1b6da\"], [0.4, \"#fde0ef\"], [0.5, \"#f7f7f7\"], [0.6, \"#e6f5d0\"], [0.7, \"#b8e186\"], [0.8, \"#7fbc41\"], [0.9, \"#4d9221\"], [1, \"#276419\"]], \"sequential\": [[0.0, \"#0d0887\"], [0.1111111111111111, \"#46039f\"], [0.2222222222222222, \"#7201a8\"], [0.3333333333333333, \"#9c179e\"], [0.4444444444444444, \"#bd3786\"], [0.5555555555555556, \"#d8576b\"], [0.6666666666666666, \"#ed7953\"], [0.7777777777777778, \"#fb9f3a\"], [0.8888888888888888, \"#fdca26\"], [1.0, \"#f0f921\"]], \"sequentialminus\": [[0.0, \"#0d0887\"], [0.1111111111111111, \"#46039f\"], [0.2222222222222222, \"#7201a8\"], [0.3333333333333333, \"#9c179e\"], [0.4444444444444444, \"#bd3786\"], [0.5555555555555556, \"#d8576b\"], [0.6666666666666666, \"#ed7953\"], [0.7777777777777778, \"#fb9f3a\"], [0.8888888888888888, \"#fdca26\"], [1.0, \"#f0f921\"]]}, \"colorway\": [\"#636efa\", \"#EF553B\", \"#00cc96\", \"#ab63fa\", \"#FFA15A\", \"#19d3f3\", \"#FF6692\", \"#B6E880\", \"#FF97FF\", \"#FECB52\"], \"font\": {\"color\": \"#2a3f5f\"}, \"geo\": {\"bgcolor\": \"white\", \"lakecolor\": \"white\", \"landcolor\": \"#E5ECF6\", \"showlakes\": true, \"showland\": true, \"subunitcolor\": \"white\"}, \"hoverlabel\": {\"align\": \"left\"}, \"hovermode\": \"closest\", \"mapbox\": {\"style\": \"light\"}, \"paper_bgcolor\": \"white\", \"plot_bgcolor\": \"#E5ECF6\", \"polar\": {\"angularaxis\": {\"gridcolor\": \"white\", \"linecolor\": \"white\", \"ticks\": \"\"}, \"bgcolor\": \"#E5ECF6\", \"radialaxis\": {\"gridcolor\": \"white\", \"linecolor\": \"white\", \"ticks\": \"\"}}, \"scene\": {\"xaxis\": {\"backgroundcolor\": \"#E5ECF6\", \"gridcolor\": \"white\", \"gridwidth\": 2, \"linecolor\": \"white\", \"showbackground\": true, \"ticks\": \"\", \"zerolinecolor\": \"white\"}, \"yaxis\": {\"backgroundcolor\": \"#E5ECF6\", \"gridcolor\": \"white\", \"gridwidth\": 2, \"linecolor\": \"white\", \"showbackground\": true, \"ticks\": \"\", \"zerolinecolor\": \"white\"}, \"zaxis\": {\"backgroundcolor\": \"#E5ECF6\", \"gridcolor\": \"white\", \"gridwidth\": 2, \"linecolor\": \"white\", \"showbackground\": true, \"ticks\": \"\", \"zerolinecolor\": \"white\"}}, \"shapedefaults\": {\"line\": {\"color\": \"#2a3f5f\"}}, \"ternary\": {\"aaxis\": {\"gridcolor\": \"white\", \"linecolor\": \"white\", \"ticks\": \"\"}, \"baxis\": {\"gridcolor\": \"white\", \"linecolor\": \"white\", \"ticks\": \"\"}, \"bgcolor\": \"#E5ECF6\", \"caxis\": {\"gridcolor\": \"white\", \"linecolor\": \"white\", \"ticks\": \"\"}}, \"title\": {\"x\": 0.05}, \"xaxis\": {\"automargin\": true, \"gridcolor\": \"white\", \"linecolor\": \"white\", \"ticks\": \"\", \"title\": {\"standoff\": 15}, \"zerolinecolor\": \"white\", \"zerolinewidth\": 2}, \"yaxis\": {\"automargin\": true, \"gridcolor\": \"white\", \"linecolor\": \"white\", \"ticks\": \"\", \"title\": {\"standoff\": 15}, \"zerolinecolor\": \"white\", \"zerolinewidth\": 2}}}, \"title\": {\"text\": \"Incidents grouped by state\"}, \"width\": 1000},\n",
       "                        {\"responsive\": true}\n",
       "                    ).then(function(){\n",
       "                            \n",
       "var gd = document.getElementById('c36492d0-1374-48b4-8eb3-88601eea94d2');\n",
       "var x = new MutationObserver(function (mutations, observer) {{\n",
       "        var display = window.getComputedStyle(gd).display;\n",
       "        if (!display || display === 'none') {{\n",
       "            console.log([gd, 'removed!']);\n",
       "            Plotly.purge(gd);\n",
       "            observer.disconnect();\n",
       "        }}\n",
       "}});\n",
       "\n",
       "// Listen for the removal of the full notebook cells\n",
       "var notebookContainer = gd.closest('#notebook-container');\n",
       "if (notebookContainer) {{\n",
       "    x.observe(notebookContainer, {childList: true});\n",
       "}}\n",
       "\n",
       "// Listen for the clearing of the current output cell\n",
       "var outputEl = gd.closest('.output');\n",
       "if (outputEl) {{\n",
       "    x.observe(outputEl, {childList: true});\n",
       "}}\n",
       "\n",
       "                        })\n",
       "                };\n",
       "                });\n",
       "            </script>\n",
       "        </div>"
      ]
     },
     "metadata": {},
     "output_type": "display_data"
    }
   ],
   "source": [
    "# Rename the states for a correct mapping\n",
    "state_to_code = {'District of Columbia' : 'dc','Mississippi': 'MS', 'Oklahoma': 'OK', 'Delaware': 'DE',\n",
    "                 'Minnesota': 'MN', 'Illinois': 'IL', 'Arkansas': 'AR', 'New Mexico': 'NM', 'Indiana': 'IN',\n",
    "                 'Maryland': 'MD', 'Louisiana': 'LA', 'Idaho': 'ID', 'Wyoming': 'WY', 'Tennessee': 'TN',\n",
    "                 'Arizona': 'AZ', 'Iowa': 'IA', 'Michigan': 'MI', 'Kansas': 'KS', 'Utah': 'UT', 'Virginia': 'VA',\n",
    "                 'Oregon': 'OR', 'Connecticut': 'CT', 'Montana': 'MT', 'California': 'CA', 'Massachusetts': 'MA',\n",
    "                 'West Virginia': 'WV', 'South Carolina': 'SC', 'New Hampshire': 'NH', 'Wisconsin': 'WI',\n",
    "                 'Vermont': 'VT', 'Georgia': 'GA', 'North Dakota': 'ND', 'Pennsylvania': 'PA', 'Florida': 'FL',\n",
    "                 'Alaska': 'AK', 'Kentucky': 'KY', 'Hawaii': 'HI', 'Nebraska': 'NE', 'Missouri': 'MO', 'Ohio': 'OH',\n",
    "                 'Alabama': 'AL', 'Rhode Island': 'RI', 'South Dakota': 'SD', 'Colorado': 'CO', 'New Jersey': 'NJ',\n",
    "                 'Washington': 'WA', 'North Carolina': 'NC', 'New York': 'NY', 'Texas': 'TX', 'Nevada': 'NV', 'Maine': 'ME'}\n",
    "\n",
    "state_df_2014['state_code'] = state_df_2014['state'].apply(lambda x : state_to_code[x])\n",
    "state_df_2015['state_code'] = state_df_2015['state'].apply(lambda x : state_to_code[x])\n",
    "state_df_2016['state_code'] = state_df_2016['state'].apply(lambda x : state_to_code[x])\n",
    "state_df_2017['state_code'] = state_df_2017['state'].apply(lambda x : state_to_code[x])\n",
    "\n",
    "# Store the data of the subplots\n",
    "data = []\n",
    "# Layout for the whole plot\n",
    "layout = dict(title = 'Incidents grouped by state',\n",
    "              width = 1000,\n",
    "              height = 400,\n",
    "              hovermode = False)\n",
    "\n",
    "# Count-Plot (data and layout)\n",
    "data.append(dict(type = 'choropleth',\n",
    "                 colorscale = [[0.0, '#baff00'],[1.0, '#000000']],\n",
    "                 autocolorscale = False,\n",
    "                 locations = state_df_2014['state_code'],\n",
    "                 geo = 'geo',\n",
    "                 z = state_df_2014['incident_id'],\n",
    "                 text = state_df_2014['state'],\n",
    "                 locationmode = 'USA-states',\n",
    "                 marker = dict(line = dict (color = 'rgb(255,255,255)',\n",
    "                                            width = 2)),\n",
    "                 colorbar = dict(title = \"Incidents - 2014\",\n",
    "                                 x=0.22,\n",
    "                                 thickness=10)))\n",
    " \n",
    "layout['geo'] = dict(scope = 'usa',\n",
    "                      showland=True,\n",
    "                      projection=dict(type='albers usa'),\n",
    "                      showlakes = True,\n",
    "                      lakecolor = 'rgb(255, 255, 255)',\n",
    "                      landcolor = 'rgb(229, 229, 229)',\n",
    "                      subunitcolor = \"rgb(255, 255, 255)\",\n",
    "                      domain = dict(x = [0/4,1/4], y = [0,1]))\n",
    "\n",
    "# Sum-Plot (data and layout)\n",
    "data.append(dict(type = 'choropleth',\n",
    "                 colorscale = [[0.0, '#00baff'],[1.0, '#000000']],\n",
    "                 autocolorscale = False,\n",
    "                 locations = state_df_2015['state_code'],\n",
    "                 geo = 'geo2',\n",
    "                 z = state_df_2015['incident_id'],\n",
    "                 text = state_df_2015['state'],\n",
    "                 locationmode = 'USA-states',\n",
    "                 marker = dict(line = dict (color = 'rgb(255,255,255)',\n",
    "                                            width = 2)),\n",
    "                 colorbar = dict(title = \"Incidents - 2015\",\n",
    "                                 x=0.47,\n",
    "                                 thickness=10)))\n",
    "layout['geo2'] = dict(scope = 'usa',\n",
    "                      showland=True,\n",
    "                      projection=dict(type='albers usa'),\n",
    "                      showlakes = True,\n",
    "                      lakecolor = 'rgb(255, 255, 255)',\n",
    "                      landcolor = 'rgb(229, 229, 229)',\n",
    "                      subunitcolor = \"rgb(255, 255, 255)\",\n",
    "                      domain = dict(x = [1/4,2/4], y = [0,1]))\n",
    "\n",
    "# Mean-Plot (data and layout)\n",
    "data.append(dict(type = 'choropleth',\n",
    "                 colorscale = [[0.0, '#ffba00'],[1.0, '#000000']],\n",
    "                 autocolorscale = False,\n",
    "                 locations = state_df_2016['state_code'],\n",
    "                 geo = 'geo3',\n",
    "                 z = state_df_2016['incident_id'],\n",
    "                 text = state_df_2016['state'],\n",
    "                 locationmode = 'USA-states',\n",
    "                 marker = dict(line = dict (color = 'rgb(255,255,255)',\n",
    "                                            width = 2)),\n",
    "                 colorbar = dict(title = \"Incidents - 2016\",\n",
    "                                 x=0.72,\n",
    "                                 thickness=10)))\n",
    " \n",
    "layout['geo3'] = dict(scope = 'usa',\n",
    "                      showland=True,\n",
    "                      projection=dict(type='albers usa'),\n",
    "                      showlakes = True,\n",
    "                      lakecolor = 'rgb(255, 255, 255)',\n",
    "                      landcolor = 'rgb(229, 229, 229)',\n",
    "                      subunitcolor = \"rgb(255, 255, 255)\",\n",
    "                      domain = dict(x = [2/4,3/4], y = [0,1]))\n",
    "\n",
    "\n",
    "# Mean-Plot (data and layout)\n",
    "data.append(dict(type = 'choropleth',\n",
    "                 colorscale = [[0.0, '#f00567'],[1.0, '#000000']],\n",
    "                 autocolorscale = False,\n",
    "                 locations = state_df_2017['state_code'],\n",
    "                 geo = 'geo4',\n",
    "                 z = state_df_2017['incident_id'],\n",
    "                 text = state_df_2017['state'],\n",
    "                 locationmode = 'USA-states',\n",
    "                 marker = dict(line = dict (color = 'rgb(255,255,255)',\n",
    "                                            width = 2)),\n",
    "                 colorbar = dict(title = \"Incidents - 2017\",\n",
    "                                 x=0.98,\n",
    "                                 thickness=10)))\n",
    " \n",
    "layout['geo4'] = dict(scope = 'usa',\n",
    "                      showland=True,\n",
    "                      projection=dict(type='albers usa'),\n",
    "                      showlakes = True,\n",
    "                      lakecolor = 'rgb(255, 255, 255)',\n",
    "                      landcolor = 'rgb(229, 229, 229)',\n",
    "                      subunitcolor = \"rgb(255, 255, 255)\",\n",
    "                      domain = dict(x = [3/4,4/4], y = [0,1]))\n",
    "\n",
    "\n",
    "\n",
    "\n",
    "# Create the subplots\n",
    "fig = {'data':data, 'layout':layout}\n",
    "iplot(fig)"
   ]
  },
  {
   "cell_type": "code",
   "execution_count": 25,
   "metadata": {},
   "outputs": [
    {
     "data": {
      "text/html": [
       "<div>\n",
       "<style scoped>\n",
       "    .dataframe tbody tr th:only-of-type {\n",
       "        vertical-align: middle;\n",
       "    }\n",
       "\n",
       "    .dataframe tbody tr th {\n",
       "        vertical-align: top;\n",
       "    }\n",
       "\n",
       "    .dataframe thead th {\n",
       "        text-align: right;\n",
       "    }\n",
       "</style>\n",
       "<table border=\"1\" class=\"dataframe\">\n",
       "  <thead>\n",
       "    <tr style=\"text-align: right;\">\n",
       "      <th></th>\n",
       "      <th>SUMLEV</th>\n",
       "      <th>REGION</th>\n",
       "      <th>DIVISION</th>\n",
       "      <th>STATE</th>\n",
       "      <th>NAME</th>\n",
       "      <th>SEX</th>\n",
       "      <th>ORIGIN</th>\n",
       "      <th>RACE</th>\n",
       "      <th>AGE</th>\n",
       "      <th>CENSUS2010POP</th>\n",
       "      <th>ESTIMATESBASE2010</th>\n",
       "      <th>POPESTIMATE2010</th>\n",
       "      <th>POPESTIMATE2011</th>\n",
       "      <th>POPESTIMATE2012</th>\n",
       "      <th>POPESTIMATE2013</th>\n",
       "      <th>POPESTIMATE2014</th>\n",
       "      <th>POPESTIMATE2015</th>\n",
       "      <th>POPESTIMATE2016</th>\n",
       "      <th>POPESTIMATE2017</th>\n",
       "      <th>POPESTIMATE2018</th>\n",
       "    </tr>\n",
       "  </thead>\n",
       "  <tbody>\n",
       "    <tr>\n",
       "      <th>0</th>\n",
       "      <td>40</td>\n",
       "      <td>3</td>\n",
       "      <td>6</td>\n",
       "      <td>1</td>\n",
       "      <td>Alabama</td>\n",
       "      <td>0</td>\n",
       "      <td>0</td>\n",
       "      <td>1</td>\n",
       "      <td>0</td>\n",
       "      <td>37991</td>\n",
       "      <td>37991</td>\n",
       "      <td>37790</td>\n",
       "      <td>38555</td>\n",
       "      <td>37705</td>\n",
       "      <td>36687</td>\n",
       "      <td>37433</td>\n",
       "      <td>37545</td>\n",
       "      <td>37522</td>\n",
       "      <td>36196</td>\n",
       "      <td>35256</td>\n",
       "    </tr>\n",
       "    <tr>\n",
       "      <th>1</th>\n",
       "      <td>40</td>\n",
       "      <td>3</td>\n",
       "      <td>6</td>\n",
       "      <td>1</td>\n",
       "      <td>Alabama</td>\n",
       "      <td>0</td>\n",
       "      <td>0</td>\n",
       "      <td>1</td>\n",
       "      <td>1</td>\n",
       "      <td>38150</td>\n",
       "      <td>38150</td>\n",
       "      <td>38036</td>\n",
       "      <td>37689</td>\n",
       "      <td>38470</td>\n",
       "      <td>37732</td>\n",
       "      <td>36838</td>\n",
       "      <td>37740</td>\n",
       "      <td>37575</td>\n",
       "      <td>37799</td>\n",
       "      <td>36352</td>\n",
       "    </tr>\n",
       "    <tr>\n",
       "      <th>2</th>\n",
       "      <td>40</td>\n",
       "      <td>3</td>\n",
       "      <td>6</td>\n",
       "      <td>1</td>\n",
       "      <td>Alabama</td>\n",
       "      <td>0</td>\n",
       "      <td>0</td>\n",
       "      <td>1</td>\n",
       "      <td>2</td>\n",
       "      <td>39738</td>\n",
       "      <td>39738</td>\n",
       "      <td>39570</td>\n",
       "      <td>38202</td>\n",
       "      <td>37621</td>\n",
       "      <td>38398</td>\n",
       "      <td>37644</td>\n",
       "      <td>36986</td>\n",
       "      <td>37841</td>\n",
       "      <td>37770</td>\n",
       "      <td>38000</td>\n",
       "    </tr>\n",
       "    <tr>\n",
       "      <th>3</th>\n",
       "      <td>40</td>\n",
       "      <td>3</td>\n",
       "      <td>6</td>\n",
       "      <td>1</td>\n",
       "      <td>Alabama</td>\n",
       "      <td>0</td>\n",
       "      <td>0</td>\n",
       "      <td>1</td>\n",
       "      <td>3</td>\n",
       "      <td>39827</td>\n",
       "      <td>39828</td>\n",
       "      <td>39806</td>\n",
       "      <td>39690</td>\n",
       "      <td>38113</td>\n",
       "      <td>37684</td>\n",
       "      <td>38473</td>\n",
       "      <td>37763</td>\n",
       "      <td>37103</td>\n",
       "      <td>37953</td>\n",
       "      <td>37965</td>\n",
       "    </tr>\n",
       "    <tr>\n",
       "      <th>4</th>\n",
       "      <td>40</td>\n",
       "      <td>3</td>\n",
       "      <td>6</td>\n",
       "      <td>1</td>\n",
       "      <td>Alabama</td>\n",
       "      <td>0</td>\n",
       "      <td>0</td>\n",
       "      <td>1</td>\n",
       "      <td>4</td>\n",
       "      <td>39353</td>\n",
       "      <td>39353</td>\n",
       "      <td>39493</td>\n",
       "      <td>39873</td>\n",
       "      <td>39628</td>\n",
       "      <td>38122</td>\n",
       "      <td>37719</td>\n",
       "      <td>38494</td>\n",
       "      <td>37820</td>\n",
       "      <td>37162</td>\n",
       "      <td>38089</td>\n",
       "    </tr>\n",
       "  </tbody>\n",
       "</table>\n",
       "</div>"
      ],
      "text/plain": [
       "   SUMLEV  REGION  DIVISION  STATE     NAME  SEX  ORIGIN  RACE  AGE  \\\n",
       "0      40       3         6      1  Alabama    0       0     1    0   \n",
       "1      40       3         6      1  Alabama    0       0     1    1   \n",
       "2      40       3         6      1  Alabama    0       0     1    2   \n",
       "3      40       3         6      1  Alabama    0       0     1    3   \n",
       "4      40       3         6      1  Alabama    0       0     1    4   \n",
       "\n",
       "   CENSUS2010POP  ESTIMATESBASE2010  POPESTIMATE2010  POPESTIMATE2011  \\\n",
       "0          37991              37991            37790            38555   \n",
       "1          38150              38150            38036            37689   \n",
       "2          39738              39738            39570            38202   \n",
       "3          39827              39828            39806            39690   \n",
       "4          39353              39353            39493            39873   \n",
       "\n",
       "   POPESTIMATE2012  POPESTIMATE2013  POPESTIMATE2014  POPESTIMATE2015  \\\n",
       "0            37705            36687            37433            37545   \n",
       "1            38470            37732            36838            37740   \n",
       "2            37621            38398            37644            36986   \n",
       "3            38113            37684            38473            37763   \n",
       "4            39628            38122            37719            38494   \n",
       "\n",
       "   POPESTIMATE2016  POPESTIMATE2017  POPESTIMATE2018  \n",
       "0            37522            36196            35256  \n",
       "1            37575            37799            36352  \n",
       "2            37841            37770            38000  \n",
       "3            37103            37953            37965  \n",
       "4            37820            37162            38089  "
      ]
     },
     "execution_count": 25,
     "metadata": {},
     "output_type": "execute_result"
    }
   ],
   "source": [
    "filename = 'Pop By State.csv'\n",
    "df_state_pop = pd.read_csv(filename)\n",
    "df_state_pop.head()"
   ]
  },
  {
   "cell_type": "code",
   "execution_count": 26,
   "metadata": {},
   "outputs": [
    {
     "data": {
      "text/html": [
       "<div>\n",
       "<style scoped>\n",
       "    .dataframe tbody tr th:only-of-type {\n",
       "        vertical-align: middle;\n",
       "    }\n",
       "\n",
       "    .dataframe tbody tr th {\n",
       "        vertical-align: top;\n",
       "    }\n",
       "\n",
       "    .dataframe thead th {\n",
       "        text-align: right;\n",
       "    }\n",
       "</style>\n",
       "<table border=\"1\" class=\"dataframe\">\n",
       "  <thead>\n",
       "    <tr style=\"text-align: right;\">\n",
       "      <th></th>\n",
       "      <th>state</th>\n",
       "      <th>POPESTIMATE2014</th>\n",
       "      <th>POPESTIMATE2015</th>\n",
       "      <th>POPESTIMATE2016</th>\n",
       "      <th>POPESTIMATE2017</th>\n",
       "      <th>POPESTIMATE2018</th>\n",
       "    </tr>\n",
       "  </thead>\n",
       "  <tbody>\n",
       "    <tr>\n",
       "      <th>0</th>\n",
       "      <td>Alabama</td>\n",
       "      <td>19.369924</td>\n",
       "      <td>19.412640</td>\n",
       "      <td>19.458980</td>\n",
       "      <td>19.500480</td>\n",
       "      <td>19.551484</td>\n",
       "    </tr>\n",
       "    <tr>\n",
       "      <th>1</th>\n",
       "      <td>Alaska</td>\n",
       "      <td>2.945228</td>\n",
       "      <td>2.950188</td>\n",
       "      <td>2.966016</td>\n",
       "      <td>2.959144</td>\n",
       "      <td>2.949752</td>\n",
       "    </tr>\n",
       "    <tr>\n",
       "      <th>2</th>\n",
       "      <td>Arizona</td>\n",
       "      <td>26.935360</td>\n",
       "      <td>27.334384</td>\n",
       "      <td>27.781808</td>\n",
       "      <td>28.195504</td>\n",
       "      <td>28.686584</td>\n",
       "    </tr>\n",
       "    <tr>\n",
       "      <th>3</th>\n",
       "      <td>Arkansas</td>\n",
       "      <td>11.870904</td>\n",
       "      <td>11.913628</td>\n",
       "      <td>11.961640</td>\n",
       "      <td>12.011988</td>\n",
       "      <td>12.055300</td>\n",
       "    </tr>\n",
       "    <tr>\n",
       "      <th>4</th>\n",
       "      <td>California</td>\n",
       "      <td>154.500556</td>\n",
       "      <td>155.812568</td>\n",
       "      <td>156.836508</td>\n",
       "      <td>157.597396</td>\n",
       "      <td>158.228180</td>\n",
       "    </tr>\n",
       "  </tbody>\n",
       "</table>\n",
       "</div>"
      ],
      "text/plain": [
       "        state  POPESTIMATE2014  POPESTIMATE2015  POPESTIMATE2016  \\\n",
       "0     Alabama        19.369924        19.412640        19.458980   \n",
       "1      Alaska         2.945228         2.950188         2.966016   \n",
       "2     Arizona        26.935360        27.334384        27.781808   \n",
       "3    Arkansas        11.870904        11.913628        11.961640   \n",
       "4  California       154.500556       155.812568       156.836508   \n",
       "\n",
       "   POPESTIMATE2017  POPESTIMATE2018  \n",
       "0        19.500480        19.551484  \n",
       "1         2.959144         2.949752  \n",
       "2        28.195504        28.686584  \n",
       "3        12.011988        12.055300  \n",
       "4       157.597396       158.228180  "
      ]
     },
     "execution_count": 26,
     "metadata": {},
     "output_type": "execute_result"
    }
   ],
   "source": [
    "# get population by state from Census data\n",
    "\n",
    "pop_df_agg = df_state_pop.groupby('NAME').agg({'POPESTIMATE2014': 'sum', 'POPESTIMATE2015': 'sum', 'POPESTIMATE2016': 'sum',\n",
    "                            'POPESTIMATE2017': 'sum', 'POPESTIMATE2018': 'sum'\n",
    "                            } )\n",
    "pop_df_agg = pop_df_agg.apply(lambda x: x/1000000)\n",
    "pop_df_agg.reset_index(inplace=True)\n",
    "\n",
    "pop_df_agg.rename(columns={'NAME':'state'}, inplace=True)\n",
    "pop_df_agg.head()"
   ]
  },
  {
   "cell_type": "code",
   "execution_count": 27,
   "metadata": {},
   "outputs": [
    {
     "data": {
      "text/html": [
       "<div>\n",
       "<style scoped>\n",
       "    .dataframe tbody tr th:only-of-type {\n",
       "        vertical-align: middle;\n",
       "    }\n",
       "\n",
       "    .dataframe tbody tr th {\n",
       "        vertical-align: top;\n",
       "    }\n",
       "\n",
       "    .dataframe thead th {\n",
       "        text-align: right;\n",
       "    }\n",
       "</style>\n",
       "<table border=\"1\" class=\"dataframe\">\n",
       "  <thead>\n",
       "    <tr style=\"text-align: right;\">\n",
       "      <th></th>\n",
       "      <th>state</th>\n",
       "      <th>incident_id</th>\n",
       "      <th>n_killed</th>\n",
       "      <th>n_injured</th>\n",
       "      <th>state_code</th>\n",
       "    </tr>\n",
       "  </thead>\n",
       "  <tbody>\n",
       "    <tr>\n",
       "      <th>0</th>\n",
       "      <td>California</td>\n",
       "      <td>3732</td>\n",
       "      <td>1320</td>\n",
       "      <td>1607</td>\n",
       "      <td>CA</td>\n",
       "    </tr>\n",
       "    <tr>\n",
       "      <th>1</th>\n",
       "      <td>Florida</td>\n",
       "      <td>3138</td>\n",
       "      <td>873</td>\n",
       "      <td>1463</td>\n",
       "      <td>FL</td>\n",
       "    </tr>\n",
       "    <tr>\n",
       "      <th>2</th>\n",
       "      <td>Texas</td>\n",
       "      <td>3133</td>\n",
       "      <td>1094</td>\n",
       "      <td>1157</td>\n",
       "      <td>TX</td>\n",
       "    </tr>\n",
       "    <tr>\n",
       "      <th>3</th>\n",
       "      <td>Illinois</td>\n",
       "      <td>3095</td>\n",
       "      <td>637</td>\n",
       "      <td>2276</td>\n",
       "      <td>IL</td>\n",
       "    </tr>\n",
       "    <tr>\n",
       "      <th>4</th>\n",
       "      <td>Ohio</td>\n",
       "      <td>2368</td>\n",
       "      <td>494</td>\n",
       "      <td>1120</td>\n",
       "      <td>OH</td>\n",
       "    </tr>\n",
       "  </tbody>\n",
       "</table>\n",
       "</div>"
      ],
      "text/plain": [
       "        state  incident_id  n_killed  n_injured state_code\n",
       "0  California         3732      1320       1607         CA\n",
       "1     Florida         3138       873       1463         FL\n",
       "2       Texas         3133      1094       1157         TX\n",
       "3    Illinois         3095       637       2276         IL\n",
       "4        Ohio         2368       494       1120         OH"
      ]
     },
     "execution_count": 27,
     "metadata": {},
     "output_type": "execute_result"
    }
   ],
   "source": [
    "state_df_2014.head()"
   ]
  },
  {
   "cell_type": "code",
   "execution_count": 28,
   "metadata": {},
   "outputs": [
    {
     "data": {
      "text/html": [
       "<div>\n",
       "<style scoped>\n",
       "    .dataframe tbody tr th:only-of-type {\n",
       "        vertical-align: middle;\n",
       "    }\n",
       "\n",
       "    .dataframe tbody tr th {\n",
       "        vertical-align: top;\n",
       "    }\n",
       "\n",
       "    .dataframe thead th {\n",
       "        text-align: right;\n",
       "    }\n",
       "</style>\n",
       "<table border=\"1\" class=\"dataframe\">\n",
       "  <thead>\n",
       "    <tr style=\"text-align: right;\">\n",
       "      <th></th>\n",
       "      <th>state</th>\n",
       "      <th>incident_id</th>\n",
       "      <th>n_killed</th>\n",
       "      <th>n_injured</th>\n",
       "      <th>state_code</th>\n",
       "      <th>POPESTIMATE2014</th>\n",
       "      <th>incidentspermil</th>\n",
       "    </tr>\n",
       "  </thead>\n",
       "  <tbody>\n",
       "    <tr>\n",
       "      <th>0</th>\n",
       "      <td>California</td>\n",
       "      <td>3732</td>\n",
       "      <td>1320</td>\n",
       "      <td>1607</td>\n",
       "      <td>CA</td>\n",
       "      <td>154.500556</td>\n",
       "      <td>24.155253</td>\n",
       "    </tr>\n",
       "    <tr>\n",
       "      <th>1</th>\n",
       "      <td>Florida</td>\n",
       "      <td>3138</td>\n",
       "      <td>873</td>\n",
       "      <td>1463</td>\n",
       "      <td>FL</td>\n",
       "      <td>79.441320</td>\n",
       "      <td>39.500854</td>\n",
       "    </tr>\n",
       "    <tr>\n",
       "      <th>2</th>\n",
       "      <td>Texas</td>\n",
       "      <td>3133</td>\n",
       "      <td>1094</td>\n",
       "      <td>1157</td>\n",
       "      <td>TX</td>\n",
       "      <td>107.908568</td>\n",
       "      <td>29.033839</td>\n",
       "    </tr>\n",
       "    <tr>\n",
       "      <th>3</th>\n",
       "      <td>Illinois</td>\n",
       "      <td>3095</td>\n",
       "      <td>637</td>\n",
       "      <td>2276</td>\n",
       "      <td>IL</td>\n",
       "      <td>51.555848</td>\n",
       "      <td>60.031987</td>\n",
       "    </tr>\n",
       "    <tr>\n",
       "      <th>4</th>\n",
       "      <td>Ohio</td>\n",
       "      <td>2368</td>\n",
       "      <td>494</td>\n",
       "      <td>1120</td>\n",
       "      <td>OH</td>\n",
       "      <td>46.411892</td>\n",
       "      <td>51.021406</td>\n",
       "    </tr>\n",
       "  </tbody>\n",
       "</table>\n",
       "</div>"
      ],
      "text/plain": [
       "        state  incident_id  n_killed  n_injured state_code  POPESTIMATE2014  \\\n",
       "0  California         3732      1320       1607         CA       154.500556   \n",
       "1     Florida         3138       873       1463         FL        79.441320   \n",
       "2       Texas         3133      1094       1157         TX       107.908568   \n",
       "3    Illinois         3095       637       2276         IL        51.555848   \n",
       "4        Ohio         2368       494       1120         OH        46.411892   \n",
       "\n",
       "   incidentspermil  \n",
       "0        24.155253  \n",
       "1        39.500854  \n",
       "2        29.033839  \n",
       "3        60.031987  \n",
       "4        51.021406  "
      ]
     },
     "execution_count": 28,
     "metadata": {},
     "output_type": "execute_result"
    }
   ],
   "source": [
    "state_df_2014 = pd.merge(state_df_2014,pop_df_agg,how = 'inner',on = 'state')\n",
    "state_df_2014 = state_df_2014.drop(columns=['POPESTIMATE2015','POPESTIMATE2016','POPESTIMATE2017','POPESTIMATE2018'])\n",
    "state_df_2014['incidentspermil'] = state_df_2014['incident_id']/state_df_2014['POPESTIMATE2014']\n",
    "state_df_2014.head()"
   ]
  },
  {
   "cell_type": "code",
   "execution_count": 29,
   "metadata": {},
   "outputs": [
    {
     "data": {
      "text/html": [
       "<div>\n",
       "<style scoped>\n",
       "    .dataframe tbody tr th:only-of-type {\n",
       "        vertical-align: middle;\n",
       "    }\n",
       "\n",
       "    .dataframe tbody tr th {\n",
       "        vertical-align: top;\n",
       "    }\n",
       "\n",
       "    .dataframe thead th {\n",
       "        text-align: right;\n",
       "    }\n",
       "</style>\n",
       "<table border=\"1\" class=\"dataframe\">\n",
       "  <thead>\n",
       "    <tr style=\"text-align: right;\">\n",
       "      <th></th>\n",
       "      <th>state</th>\n",
       "      <th>incident_id</th>\n",
       "      <th>n_killed</th>\n",
       "      <th>n_injured</th>\n",
       "      <th>state_code</th>\n",
       "      <th>POPESTIMATE2015</th>\n",
       "      <th>incidentspermil</th>\n",
       "    </tr>\n",
       "  </thead>\n",
       "  <tbody>\n",
       "    <tr>\n",
       "      <th>0</th>\n",
       "      <td>Illinois</td>\n",
       "      <td>3456</td>\n",
       "      <td>688</td>\n",
       "      <td>2822</td>\n",
       "      <td>IL</td>\n",
       "      <td>51.457368</td>\n",
       "      <td>67.162394</td>\n",
       "    </tr>\n",
       "    <tr>\n",
       "      <th>1</th>\n",
       "      <td>Texas</td>\n",
       "      <td>3276</td>\n",
       "      <td>1136</td>\n",
       "      <td>1355</td>\n",
       "      <td>TX</td>\n",
       "      <td>109.947256</td>\n",
       "      <td>29.796105</td>\n",
       "    </tr>\n",
       "    <tr>\n",
       "      <th>2</th>\n",
       "      <td>California</td>\n",
       "      <td>3234</td>\n",
       "      <td>1204</td>\n",
       "      <td>1617</td>\n",
       "      <td>CA</td>\n",
       "      <td>155.812568</td>\n",
       "      <td>20.755707</td>\n",
       "    </tr>\n",
       "    <tr>\n",
       "      <th>3</th>\n",
       "      <td>New York</td>\n",
       "      <td>2903</td>\n",
       "      <td>463</td>\n",
       "      <td>1521</td>\n",
       "      <td>NY</td>\n",
       "      <td>78.645644</td>\n",
       "      <td>36.912407</td>\n",
       "    </tr>\n",
       "    <tr>\n",
       "      <th>4</th>\n",
       "      <td>Georgia</td>\n",
       "      <td>2767</td>\n",
       "      <td>595</td>\n",
       "      <td>1096</td>\n",
       "      <td>GA</td>\n",
       "      <td>40.724444</td>\n",
       "      <td>67.944451</td>\n",
       "    </tr>\n",
       "  </tbody>\n",
       "</table>\n",
       "</div>"
      ],
      "text/plain": [
       "        state  incident_id  n_killed  n_injured state_code  POPESTIMATE2015  \\\n",
       "0    Illinois         3456       688       2822         IL        51.457368   \n",
       "1       Texas         3276      1136       1355         TX       109.947256   \n",
       "2  California         3234      1204       1617         CA       155.812568   \n",
       "3    New York         2903       463       1521         NY        78.645644   \n",
       "4     Georgia         2767       595       1096         GA        40.724444   \n",
       "\n",
       "   incidentspermil  \n",
       "0        67.162394  \n",
       "1        29.796105  \n",
       "2        20.755707  \n",
       "3        36.912407  \n",
       "4        67.944451  "
      ]
     },
     "execution_count": 29,
     "metadata": {},
     "output_type": "execute_result"
    }
   ],
   "source": [
    "state_df_2015 = pd.merge(state_df_2015,pop_df_agg,how = 'inner',on = 'state')\n",
    "state_df_2015 = state_df_2015.drop(columns=['POPESTIMATE2014','POPESTIMATE2016','POPESTIMATE2017','POPESTIMATE2018'])\n",
    "state_df_2015['incidentspermil'] = state_df_2015['incident_id']/state_df_2015['POPESTIMATE2015']\n",
    "state_df_2015.head()"
   ]
  },
  {
   "cell_type": "code",
   "execution_count": 30,
   "metadata": {},
   "outputs": [
    {
     "data": {
      "text/html": [
       "<div>\n",
       "<style scoped>\n",
       "    .dataframe tbody tr th:only-of-type {\n",
       "        vertical-align: middle;\n",
       "    }\n",
       "\n",
       "    .dataframe tbody tr th {\n",
       "        vertical-align: top;\n",
       "    }\n",
       "\n",
       "    .dataframe thead th {\n",
       "        text-align: right;\n",
       "    }\n",
       "</style>\n",
       "<table border=\"1\" class=\"dataframe\">\n",
       "  <thead>\n",
       "    <tr style=\"text-align: right;\">\n",
       "      <th></th>\n",
       "      <th>state</th>\n",
       "      <th>incident_id</th>\n",
       "      <th>n_killed</th>\n",
       "      <th>n_injured</th>\n",
       "      <th>state_code</th>\n",
       "      <th>POPESTIMATE2016</th>\n",
       "      <th>incidentspermil</th>\n",
       "    </tr>\n",
       "  </thead>\n",
       "  <tbody>\n",
       "    <tr>\n",
       "      <th>0</th>\n",
       "      <td>Illinois</td>\n",
       "      <td>5055</td>\n",
       "      <td>946</td>\n",
       "      <td>4137</td>\n",
       "      <td>IL</td>\n",
       "      <td>51.307580</td>\n",
       "      <td>98.523454</td>\n",
       "    </tr>\n",
       "    <tr>\n",
       "      <th>1</th>\n",
       "      <td>Florida</td>\n",
       "      <td>4201</td>\n",
       "      <td>1001</td>\n",
       "      <td>1846</td>\n",
       "      <td>FL</td>\n",
       "      <td>82.519928</td>\n",
       "      <td>50.908915</td>\n",
       "    </tr>\n",
       "    <tr>\n",
       "      <th>2</th>\n",
       "      <td>California</td>\n",
       "      <td>3617</td>\n",
       "      <td>1265</td>\n",
       "      <td>1896</td>\n",
       "      <td>CA</td>\n",
       "      <td>156.836508</td>\n",
       "      <td>23.062232</td>\n",
       "    </tr>\n",
       "    <tr>\n",
       "      <th>3</th>\n",
       "      <td>Texas</td>\n",
       "      <td>3606</td>\n",
       "      <td>1313</td>\n",
       "      <td>1614</td>\n",
       "      <td>TX</td>\n",
       "      <td>111.749968</td>\n",
       "      <td>32.268466</td>\n",
       "    </tr>\n",
       "    <tr>\n",
       "      <th>4</th>\n",
       "      <td>New York</td>\n",
       "      <td>2522</td>\n",
       "      <td>416</td>\n",
       "      <td>1275</td>\n",
       "      <td>NY</td>\n",
       "      <td>78.566356</td>\n",
       "      <td>32.100254</td>\n",
       "    </tr>\n",
       "  </tbody>\n",
       "</table>\n",
       "</div>"
      ],
      "text/plain": [
       "        state  incident_id  n_killed  n_injured state_code  POPESTIMATE2016  \\\n",
       "0    Illinois         5055       946       4137         IL        51.307580   \n",
       "1     Florida         4201      1001       1846         FL        82.519928   \n",
       "2  California         3617      1265       1896         CA       156.836508   \n",
       "3       Texas         3606      1313       1614         TX       111.749968   \n",
       "4    New York         2522       416       1275         NY        78.566356   \n",
       "\n",
       "   incidentspermil  \n",
       "0        98.523454  \n",
       "1        50.908915  \n",
       "2        23.062232  \n",
       "3        32.268466  \n",
       "4        32.100254  "
      ]
     },
     "execution_count": 30,
     "metadata": {},
     "output_type": "execute_result"
    }
   ],
   "source": [
    "state_df_2016 = pd.merge(state_df_2016,pop_df_agg,how = 'inner',on = 'state')\n",
    "state_df_2016 = state_df_2016.drop(columns=['POPESTIMATE2014','POPESTIMATE2015','POPESTIMATE2017','POPESTIMATE2018'])\n",
    "state_df_2016['incidentspermil'] = state_df_2016['incident_id']/state_df_2016['POPESTIMATE2016']\n",
    "state_df_2016.head()"
   ]
  },
  {
   "cell_type": "code",
   "execution_count": 31,
   "metadata": {},
   "outputs": [
    {
     "data": {
      "text/html": [
       "<div>\n",
       "<style scoped>\n",
       "    .dataframe tbody tr th:only-of-type {\n",
       "        vertical-align: middle;\n",
       "    }\n",
       "\n",
       "    .dataframe tbody tr th {\n",
       "        vertical-align: top;\n",
       "    }\n",
       "\n",
       "    .dataframe thead th {\n",
       "        text-align: right;\n",
       "    }\n",
       "</style>\n",
       "<table border=\"1\" class=\"dataframe\">\n",
       "  <thead>\n",
       "    <tr style=\"text-align: right;\">\n",
       "      <th></th>\n",
       "      <th>state</th>\n",
       "      <th>incident_id</th>\n",
       "      <th>n_killed</th>\n",
       "      <th>n_injured</th>\n",
       "      <th>state_code</th>\n",
       "      <th>POPESTIMATE2017</th>\n",
       "      <th>incidentspermil</th>\n",
       "    </tr>\n",
       "  </thead>\n",
       "  <tbody>\n",
       "    <tr>\n",
       "      <th>0</th>\n",
       "      <td>Illinois</td>\n",
       "      <td>5089</td>\n",
       "      <td>959</td>\n",
       "      <td>3629</td>\n",
       "      <td>IL</td>\n",
       "      <td>51.144784</td>\n",
       "      <td>99.501838</td>\n",
       "    </tr>\n",
       "    <tr>\n",
       "      <th>1</th>\n",
       "      <td>California</td>\n",
       "      <td>4588</td>\n",
       "      <td>1423</td>\n",
       "      <td>1953</td>\n",
       "      <td>CA</td>\n",
       "      <td>157.597396</td>\n",
       "      <td>29.112156</td>\n",
       "    </tr>\n",
       "    <tr>\n",
       "      <th>2</th>\n",
       "      <td>Florida</td>\n",
       "      <td>4156</td>\n",
       "      <td>950</td>\n",
       "      <td>1801</td>\n",
       "      <td>FL</td>\n",
       "      <td>83.907248</td>\n",
       "      <td>49.530882</td>\n",
       "    </tr>\n",
       "    <tr>\n",
       "      <th>3</th>\n",
       "      <td>Texas</td>\n",
       "      <td>2875</td>\n",
       "      <td>1169</td>\n",
       "      <td>1565</td>\n",
       "      <td>TX</td>\n",
       "      <td>113.290868</td>\n",
       "      <td>25.377156</td>\n",
       "    </tr>\n",
       "    <tr>\n",
       "      <th>4</th>\n",
       "      <td>Ohio</td>\n",
       "      <td>2701</td>\n",
       "      <td>700</td>\n",
       "      <td>1517</td>\n",
       "      <td>OH</td>\n",
       "      <td>46.656516</td>\n",
       "      <td>57.891164</td>\n",
       "    </tr>\n",
       "  </tbody>\n",
       "</table>\n",
       "</div>"
      ],
      "text/plain": [
       "        state  incident_id  n_killed  n_injured state_code  POPESTIMATE2017  \\\n",
       "0    Illinois         5089       959       3629         IL        51.144784   \n",
       "1  California         4588      1423       1953         CA       157.597396   \n",
       "2     Florida         4156       950       1801         FL        83.907248   \n",
       "3       Texas         2875      1169       1565         TX       113.290868   \n",
       "4        Ohio         2701       700       1517         OH        46.656516   \n",
       "\n",
       "   incidentspermil  \n",
       "0        99.501838  \n",
       "1        29.112156  \n",
       "2        49.530882  \n",
       "3        25.377156  \n",
       "4        57.891164  "
      ]
     },
     "execution_count": 31,
     "metadata": {},
     "output_type": "execute_result"
    }
   ],
   "source": [
    "state_df_2017 = pd.merge(state_df_2017,pop_df_agg,how = 'inner',on = 'state')\n",
    "state_df_2017 = state_df_2017.drop(columns=['POPESTIMATE2014','POPESTIMATE2015','POPESTIMATE2016','POPESTIMATE2018'])\n",
    "state_df_2017['incidentspermil'] = state_df_2017['incident_id']/state_df_2017['POPESTIMATE2017']\n",
    "state_df_2017.head()"
   ]
  },
  {
   "cell_type": "code",
   "execution_count": 32,
   "metadata": {},
   "outputs": [],
   "source": [
    "state_df_2014 = state_df_2014[state_df_2014['state'] != 'District of Columbia' ]\n",
    "state_df_2015 = state_df_2015[state_df_2015['state'] != 'District of Columbia' ]\n",
    "state_df_2016 = state_df_2016[state_df_2016['state'] != 'District of Columbia' ]\n",
    "state_df_2017 = state_df_2017[state_df_2017['state'] != 'District of Columbia' ]"
   ]
  },
  {
   "cell_type": "code",
   "execution_count": 33,
   "metadata": {},
   "outputs": [
    {
     "data": {
      "application/vnd.plotly.v1+json": {
       "config": {
        "linkText": "Export to plot.ly",
        "plotlyServerURL": "https://plot.ly",
        "showLink": false
       },
       "data": [
        {
         "autocolorscale": false,
         "colorbar": {
          "thickness": 10,
          "title": {
           "text": "Incidents - 2014"
          },
          "x": 0.22
         },
         "colorscale": [
          [
           0,
           "#baff00"
          ],
          [
           1,
           "#000000"
          ]
         ],
         "geo": "geo",
         "locationmode": "USA-states",
         "locations": [
          "CA",
          "FL",
          "TX",
          "IL",
          "OH",
          "PA",
          "NC",
          "GA",
          "LA",
          "NY",
          "SC",
          "TN",
          "NJ",
          "MI",
          "AL",
          "VA",
          "MO",
          "MD",
          "IN",
          "WI",
          "KY",
          "MA",
          "MS",
          "WA",
          "OK",
          "CT",
          "AR",
          "IA",
          "CO",
          "AZ",
          "DE",
          "MN",
          "OR",
          "KS",
          "NV",
          "WV",
          "NE",
          "NM",
          "NH",
          "UT",
          "RI",
          "ME",
          "VT",
          "AK",
          "MT",
          "ID",
          "ND",
          "SD",
          "WY",
          "HI"
         ],
         "marker": {
          "line": {
           "color": "rgb(255,255,255)",
           "width": 2
          }
         },
         "text": [
          "California",
          "Florida",
          "Texas",
          "Illinois",
          "Ohio",
          "Pennsylvania",
          "North Carolina",
          "Georgia",
          "Louisiana",
          "New York",
          "South Carolina",
          "Tennessee",
          "New Jersey",
          "Michigan",
          "Alabama",
          "Virginia",
          "Missouri",
          "Maryland",
          "Indiana",
          "Wisconsin",
          "Kentucky",
          "Massachusetts",
          "Mississippi",
          "Washington",
          "Oklahoma",
          "Connecticut",
          "Arkansas",
          "Iowa",
          "Colorado",
          "Arizona",
          "Delaware",
          "Minnesota",
          "Oregon",
          "Kansas",
          "Nevada",
          "West Virginia",
          "Nebraska",
          "New Mexico",
          "New Hampshire",
          "Utah",
          "Rhode Island",
          "Maine",
          "Vermont",
          "Alaska",
          "Montana",
          "Idaho",
          "North Dakota",
          "South Dakota",
          "Wyoming",
          "Hawaii"
         ],
         "type": "choropleth",
         "z": [
          24.15525287818382,
          39.500854215413334,
          29.033839092369384,
          60.031987059935474,
          51.021406324051604,
          44.31507734593698,
          54.48490549171608,
          50.45187700348823,
          102.60100546832138,
          24.203399108582325,
          86.03188403814177,
          60.77214101093654,
          42.884790194411046,
          36.4278493450892,
          68.04363300547797,
          38.28766724462096,
          52.50736713035515,
          53.12038186253653,
          45.61287552515473,
          46.28845679761418,
          55.32924240505627,
          35.779487176454374,
          65.53818384998712,
          23.25436632631633,
          41.38339667184668,
          40.544867381424694,
          48.18504134141764,
          45.74684579920142,
          25.97539476059469,
          20.642011096194743,
          132.15797622979298,
          20.636438778014654,
          25.1002369765087,
          32.83468280145169,
          33.34501591337675,
          48.93301691784714,
          46.15535226509719,
          38.27124939363989,
          43.12856888907557,
          18.468720115993776,
          44.74359787768568,
          34.378851182782775,
          67.97628987009331,
          49.5717139725685,
          31.31449440302341,
          17.62204723444188,
          37.29410264964428,
          21.19921610009799,
          27.46554790334874,
          8.48139253156845
         ]
        },
        {
         "autocolorscale": false,
         "colorbar": {
          "thickness": 10,
          "title": {
           "text": "Incidents - 2015"
          },
          "x": 0.47
         },
         "colorscale": [
          [
           0,
           "#00baff"
          ],
          [
           1,
           "#000000"
          ]
         ],
         "geo": "geo2",
         "locationmode": "USA-states",
         "locations": [
          "IL",
          "TX",
          "CA",
          "NY",
          "GA",
          "FL",
          "OH",
          "NC",
          "PA",
          "TN",
          "MO",
          "SC",
          "LA",
          "MA",
          "VA",
          "IN",
          "MD",
          "MI",
          "WI",
          "NJ",
          "AL",
          "WA",
          "KY",
          "OK",
          "CO",
          "CT",
          "OR",
          "MS",
          "IA",
          "AR",
          "NV",
          "AZ",
          "KS",
          "MN",
          "NM",
          "AK",
          "NE",
          "DE",
          "WV",
          "UT",
          "ME",
          "RI",
          "NH",
          "WY",
          "ID",
          "ND",
          "MT",
          "VT",
          "SD",
          "HI"
         ],
         "marker": {
          "line": {
           "color": "rgb(255,255,255)",
           "width": 2
          }
         },
         "text": [
          "Illinois",
          "Texas",
          "California",
          "New York",
          "Georgia",
          "Florida",
          "Ohio",
          "North Carolina",
          "Pennsylvania",
          "Tennessee",
          "Missouri",
          "South Carolina",
          "Louisiana",
          "Massachusetts",
          "Virginia",
          "Indiana",
          "Maryland",
          "Michigan",
          "Wisconsin",
          "New Jersey",
          "Alabama",
          "Washington",
          "Kentucky",
          "Oklahoma",
          "Colorado",
          "Connecticut",
          "Oregon",
          "Mississippi",
          "Iowa",
          "Arkansas",
          "Nevada",
          "Arizona",
          "Kansas",
          "Minnesota",
          "New Mexico",
          "Alaska",
          "Nebraska",
          "Delaware",
          "West Virginia",
          "Utah",
          "Maine",
          "Rhode Island",
          "New Hampshire",
          "Wyoming",
          "Idaho",
          "North Dakota",
          "Montana",
          "Vermont",
          "South Dakota",
          "Hawaii"
         ],
         "type": "choropleth",
         "z": [
          67.16239353711212,
          29.79610514336074,
          20.755706946566725,
          36.91240674435827,
          67.94445124898452,
          33.40049857970004,
          45.87767960509044,
          46.24701948424805,
          34.98032459394862,
          66.87343949330644,
          70.07870060419204,
          86.66763554542253,
          90.67813741532153,
          49.22091893469157,
          39.63932637299446,
          49.93723041461823,
          53.618702871707484,
          31.9151945825115,
          48.46907161203359,
          29.92942405078916,
          53.2642649325388,
          32.28151209534165,
          51.62676268114837,
          53.71076141142673,
          36.13281984377783,
          51.35875617315525,
          42.694423933971265,
          55.29172785562117,
          47.01325661709585,
          45.15836821495518,
          42.789923957686256,
          17.560300608932693,
          39.61158988720407,
          18.695840202914617,
          47.244034214727606,
          128.8053507098531,
          49.431485053980765,
          97.19432385148707,
          46.417038907793504,
          27.158451458626782,
          43.47060258158924,
          53.495024015951934,
          39.10067694683954,
          84.51887417444696,
          26.793450651307914,
          49.40174159374661,
          33.96399622320362,
          46.785253288163574,
          30.15459058263353,
          13.181167591340218
         ]
        },
        {
         "autocolorscale": false,
         "colorbar": {
          "thickness": 10,
          "title": {
           "text": "Incidents - 2016"
          },
          "x": 0.72
         },
         "colorscale": [
          [
           0,
           "#ffba00"
          ],
          [
           1,
           "#000000"
          ]
         ],
         "geo": "geo3",
         "locationmode": "USA-states",
         "locations": [
          "IL",
          "FL",
          "CA",
          "TX",
          "NY",
          "OH",
          "PA",
          "NC",
          "LA",
          "TN",
          "GA",
          "VA",
          "MO",
          "MA",
          "IN",
          "SC",
          "MI",
          "AL",
          "MD",
          "NJ",
          "KY",
          "OK",
          "WI",
          "MS",
          "CO",
          "CT",
          "WA",
          "AR",
          "IA",
          "KS",
          "AZ",
          "OR",
          "NV",
          "MN",
          "AK",
          "NM",
          "WV",
          "NE",
          "DE",
          "NH",
          "UT",
          "RI",
          "ME",
          "MT",
          "ID",
          "ND",
          "SD",
          "WY",
          "VT",
          "HI"
         ],
         "marker": {
          "line": {
           "color": "rgb(255,255,255)",
           "width": 2
          }
         },
         "text": [
          "Illinois",
          "Florida",
          "California",
          "Texas",
          "New York",
          "Ohio",
          "Pennsylvania",
          "North Carolina",
          "Louisiana",
          "Tennessee",
          "Georgia",
          "Virginia",
          "Missouri",
          "Massachusetts",
          "Indiana",
          "South Carolina",
          "Michigan",
          "Alabama",
          "Maryland",
          "New Jersey",
          "Kentucky",
          "Oklahoma",
          "Wisconsin",
          "Mississippi",
          "Colorado",
          "Connecticut",
          "Washington",
          "Arkansas",
          "Iowa",
          "Kansas",
          "Arizona",
          "Oregon",
          "Nevada",
          "Minnesota",
          "Alaska",
          "New Mexico",
          "West Virginia",
          "Nebraska",
          "Delaware",
          "New Hampshire",
          "Utah",
          "Rhode Island",
          "Maine",
          "Montana",
          "Idaho",
          "North Dakota",
          "South Dakota",
          "Wyoming",
          "Vermont",
          "Hawaii"
         ],
         "type": "choropleth",
         "z": [
          98.52345403934467,
          50.908914995660204,
          23.062232423588515,
          32.26846561602595,
          32.100254210593654,
          52.47097916519661,
          42.73073698376772,
          51.714738646362655,
          110.61911434168802,
          75.77113115388372,
          41.437149015460136,
          46.90316642147031,
          63.74027611696209,
          56.54830881002142,
          56.94714460760666,
          75.12754034449759,
          33.05904707548013,
          67.26971300653992,
          53.83290267011197,
          34.48075365462184,
          57.51167864479278,
          57.17168491449331,
          37.19930060118227,
          71.27803184287511,
          36.63650862374685,
          56.096196524187455,
          26.320551415552156,
          60.19241508689444,
          52.60578232541506,
          49.11957456265545,
          19.94110678469882,
          33.72925284327825,
          45.893994462581325,
          21.18257040172111,
          150.0329060935612,
          47.66366795697034,
          54.48053966046744,
          49.975759788952764,
          86.38708154940498,
          50.65656117934434,
          20.541554249587445,
          56.05153146028193,
          43.56414820823663,
          38.910019858521245,
          23.0253189378049,
          49.71147460141339,
          41.72026561902444,
          54.339454722826,
          37.68175433420349,
          13.829515336757451
         ]
        },
        {
         "autocolorscale": false,
         "colorbar": {
          "thickness": 10,
          "title": {
           "text": "Incidents - 2017"
          },
          "x": 0.98
         },
         "colorscale": [
          [
           0,
           "#f00567"
          ],
          [
           1,
           "#000000"
          ]
         ],
         "geo": "geo4",
         "locationmode": "USA-states",
         "locations": [
          "IL",
          "CA",
          "FL",
          "TX",
          "OH",
          "PA",
          "NC",
          "NY",
          "GA",
          "LA",
          "TN",
          "MA",
          "MO",
          "SC",
          "MD",
          "IN",
          "VA",
          "AL",
          "WI",
          "MI",
          "NJ",
          "KY",
          "MS",
          "WA",
          "OK",
          "AR",
          "CO",
          "CT",
          "MN",
          "AZ",
          "IA",
          "KS",
          "OR",
          "NM",
          "NE",
          "NV",
          "WV",
          "DE",
          "AK",
          "UT",
          "NH",
          "ME",
          "SD",
          "RI",
          "MT",
          "ID",
          "ND",
          "WY",
          "VT",
          "HI"
         ],
         "marker": {
          "line": {
           "color": "rgb(255,255,255)",
           "width": 2
          }
         },
         "text": [
          "Illinois",
          "California",
          "Florida",
          "Texas",
          "Ohio",
          "Pennsylvania",
          "North Carolina",
          "New York",
          "Georgia",
          "Louisiana",
          "Tennessee",
          "Massachusetts",
          "Missouri",
          "South Carolina",
          "Maryland",
          "Indiana",
          "Virginia",
          "Alabama",
          "Wisconsin",
          "Michigan",
          "New Jersey",
          "Kentucky",
          "Mississippi",
          "Washington",
          "Oklahoma",
          "Arkansas",
          "Colorado",
          "Connecticut",
          "Minnesota",
          "Arizona",
          "Iowa",
          "Kansas",
          "Oregon",
          "New Mexico",
          "Nebraska",
          "Nevada",
          "West Virginia",
          "Delaware",
          "Alaska",
          "Utah",
          "New Hampshire",
          "Maine",
          "South Dakota",
          "Rhode Island",
          "Montana",
          "Idaho",
          "North Dakota",
          "Wyoming",
          "Vermont",
          "Hawaii"
         ],
         "type": "choropleth",
         "z": [
          99.50183776316271,
          29.112156142478394,
          49.53088200437703,
          25.377155729798098,
          57.89116358366749,
          42.453559285300976,
          52.11375939556802,
          25.917884892330903,
          47.87259838731285,
          106.35182103006369,
          69.8337137792575,
          64.14603235844963,
          70.80168129846845,
          85.68636420757588,
          65.51985753767164,
          55.66748277273463,
          43.50159423154094,
          74.92123270811796,
          59.089604010738164,
          34.0802692581838,
          37.74521876082503,
          57.8148371507591,
          86.04648751381008,
          29.661573899000086,
          55.05207697628056,
          68.26513646200779,
          36.01380508420553,
          54.56254826686962,
          34.077715149811745,
          20.818922052253438,
          46.60207269477996,
          49.64460304759457,
          30.808432563415934,
          53.501608630955936,
          57.233745746580965,
          36.75474910047588,
          53.65846141653935,
          101.6113629192187,
          107.12557415252518,
          18.046364978708514,
          38.15473337250059,
          38.01318739265488,
          56.968736473503526,
          45.19700213727394,
          39.64523450037508,
          23.706966764868778,
          44.0294712755702,
          39.29636193417557,
          28.4216004163164,
          11.936500625261989
         ]
        }
       ],
       "layout": {
        "geo": {
         "domain": {
          "x": [
           0,
           0.25
          ],
          "y": [
           0,
           1
          ]
         },
         "lakecolor": "rgb(255, 255, 255)",
         "landcolor": "rgb(229, 229, 229)",
         "projection": {
          "type": "albers usa"
         },
         "scope": "usa",
         "showlakes": true,
         "showland": true,
         "subunitcolor": "rgb(255, 255, 255)"
        },
        "geo2": {
         "domain": {
          "x": [
           0.25,
           0.5
          ],
          "y": [
           0,
           1
          ]
         },
         "lakecolor": "rgb(255, 255, 255)",
         "landcolor": "rgb(229, 229, 229)",
         "projection": {
          "type": "albers usa"
         },
         "scope": "usa",
         "showlakes": true,
         "showland": true,
         "subunitcolor": "rgb(255, 255, 255)"
        },
        "geo3": {
         "domain": {
          "x": [
           0.5,
           0.75
          ],
          "y": [
           0,
           1
          ]
         },
         "lakecolor": "rgb(255, 255, 255)",
         "landcolor": "rgb(229, 229, 229)",
         "projection": {
          "type": "albers usa"
         },
         "scope": "usa",
         "showlakes": true,
         "showland": true,
         "subunitcolor": "rgb(255, 255, 255)"
        },
        "geo4": {
         "domain": {
          "x": [
           0.75,
           1
          ],
          "y": [
           0,
           1
          ]
         },
         "lakecolor": "rgb(255, 255, 255)",
         "landcolor": "rgb(229, 229, 229)",
         "projection": {
          "type": "albers usa"
         },
         "scope": "usa",
         "showlakes": true,
         "showland": true,
         "subunitcolor": "rgb(255, 255, 255)"
        },
        "height": 400,
        "hovermode": false,
        "template": {
         "data": {
          "bar": [
           {
            "error_x": {
             "color": "#2a3f5f"
            },
            "error_y": {
             "color": "#2a3f5f"
            },
            "marker": {
             "line": {
              "color": "#E5ECF6",
              "width": 0.5
             }
            },
            "type": "bar"
           }
          ],
          "barpolar": [
           {
            "marker": {
             "line": {
              "color": "#E5ECF6",
              "width": 0.5
             }
            },
            "type": "barpolar"
           }
          ],
          "carpet": [
           {
            "aaxis": {
             "endlinecolor": "#2a3f5f",
             "gridcolor": "white",
             "linecolor": "white",
             "minorgridcolor": "white",
             "startlinecolor": "#2a3f5f"
            },
            "baxis": {
             "endlinecolor": "#2a3f5f",
             "gridcolor": "white",
             "linecolor": "white",
             "minorgridcolor": "white",
             "startlinecolor": "#2a3f5f"
            },
            "type": "carpet"
           }
          ],
          "choropleth": [
           {
            "colorbar": {
             "outlinewidth": 0,
             "ticks": ""
            },
            "type": "choropleth"
           }
          ],
          "contour": [
           {
            "colorbar": {
             "outlinewidth": 0,
             "ticks": ""
            },
            "colorscale": [
             [
              0,
              "#0d0887"
             ],
             [
              0.1111111111111111,
              "#46039f"
             ],
             [
              0.2222222222222222,
              "#7201a8"
             ],
             [
              0.3333333333333333,
              "#9c179e"
             ],
             [
              0.4444444444444444,
              "#bd3786"
             ],
             [
              0.5555555555555556,
              "#d8576b"
             ],
             [
              0.6666666666666666,
              "#ed7953"
             ],
             [
              0.7777777777777778,
              "#fb9f3a"
             ],
             [
              0.8888888888888888,
              "#fdca26"
             ],
             [
              1,
              "#f0f921"
             ]
            ],
            "type": "contour"
           }
          ],
          "contourcarpet": [
           {
            "colorbar": {
             "outlinewidth": 0,
             "ticks": ""
            },
            "type": "contourcarpet"
           }
          ],
          "heatmap": [
           {
            "colorbar": {
             "outlinewidth": 0,
             "ticks": ""
            },
            "colorscale": [
             [
              0,
              "#0d0887"
             ],
             [
              0.1111111111111111,
              "#46039f"
             ],
             [
              0.2222222222222222,
              "#7201a8"
             ],
             [
              0.3333333333333333,
              "#9c179e"
             ],
             [
              0.4444444444444444,
              "#bd3786"
             ],
             [
              0.5555555555555556,
              "#d8576b"
             ],
             [
              0.6666666666666666,
              "#ed7953"
             ],
             [
              0.7777777777777778,
              "#fb9f3a"
             ],
             [
              0.8888888888888888,
              "#fdca26"
             ],
             [
              1,
              "#f0f921"
             ]
            ],
            "type": "heatmap"
           }
          ],
          "heatmapgl": [
           {
            "colorbar": {
             "outlinewidth": 0,
             "ticks": ""
            },
            "colorscale": [
             [
              0,
              "#0d0887"
             ],
             [
              0.1111111111111111,
              "#46039f"
             ],
             [
              0.2222222222222222,
              "#7201a8"
             ],
             [
              0.3333333333333333,
              "#9c179e"
             ],
             [
              0.4444444444444444,
              "#bd3786"
             ],
             [
              0.5555555555555556,
              "#d8576b"
             ],
             [
              0.6666666666666666,
              "#ed7953"
             ],
             [
              0.7777777777777778,
              "#fb9f3a"
             ],
             [
              0.8888888888888888,
              "#fdca26"
             ],
             [
              1,
              "#f0f921"
             ]
            ],
            "type": "heatmapgl"
           }
          ],
          "histogram": [
           {
            "marker": {
             "colorbar": {
              "outlinewidth": 0,
              "ticks": ""
             }
            },
            "type": "histogram"
           }
          ],
          "histogram2d": [
           {
            "colorbar": {
             "outlinewidth": 0,
             "ticks": ""
            },
            "colorscale": [
             [
              0,
              "#0d0887"
             ],
             [
              0.1111111111111111,
              "#46039f"
             ],
             [
              0.2222222222222222,
              "#7201a8"
             ],
             [
              0.3333333333333333,
              "#9c179e"
             ],
             [
              0.4444444444444444,
              "#bd3786"
             ],
             [
              0.5555555555555556,
              "#d8576b"
             ],
             [
              0.6666666666666666,
              "#ed7953"
             ],
             [
              0.7777777777777778,
              "#fb9f3a"
             ],
             [
              0.8888888888888888,
              "#fdca26"
             ],
             [
              1,
              "#f0f921"
             ]
            ],
            "type": "histogram2d"
           }
          ],
          "histogram2dcontour": [
           {
            "colorbar": {
             "outlinewidth": 0,
             "ticks": ""
            },
            "colorscale": [
             [
              0,
              "#0d0887"
             ],
             [
              0.1111111111111111,
              "#46039f"
             ],
             [
              0.2222222222222222,
              "#7201a8"
             ],
             [
              0.3333333333333333,
              "#9c179e"
             ],
             [
              0.4444444444444444,
              "#bd3786"
             ],
             [
              0.5555555555555556,
              "#d8576b"
             ],
             [
              0.6666666666666666,
              "#ed7953"
             ],
             [
              0.7777777777777778,
              "#fb9f3a"
             ],
             [
              0.8888888888888888,
              "#fdca26"
             ],
             [
              1,
              "#f0f921"
             ]
            ],
            "type": "histogram2dcontour"
           }
          ],
          "mesh3d": [
           {
            "colorbar": {
             "outlinewidth": 0,
             "ticks": ""
            },
            "type": "mesh3d"
           }
          ],
          "parcoords": [
           {
            "line": {
             "colorbar": {
              "outlinewidth": 0,
              "ticks": ""
             }
            },
            "type": "parcoords"
           }
          ],
          "pie": [
           {
            "automargin": true,
            "type": "pie"
           }
          ],
          "scatter": [
           {
            "marker": {
             "colorbar": {
              "outlinewidth": 0,
              "ticks": ""
             }
            },
            "type": "scatter"
           }
          ],
          "scatter3d": [
           {
            "line": {
             "colorbar": {
              "outlinewidth": 0,
              "ticks": ""
             }
            },
            "marker": {
             "colorbar": {
              "outlinewidth": 0,
              "ticks": ""
             }
            },
            "type": "scatter3d"
           }
          ],
          "scattercarpet": [
           {
            "marker": {
             "colorbar": {
              "outlinewidth": 0,
              "ticks": ""
             }
            },
            "type": "scattercarpet"
           }
          ],
          "scattergeo": [
           {
            "marker": {
             "colorbar": {
              "outlinewidth": 0,
              "ticks": ""
             }
            },
            "type": "scattergeo"
           }
          ],
          "scattergl": [
           {
            "marker": {
             "colorbar": {
              "outlinewidth": 0,
              "ticks": ""
             }
            },
            "type": "scattergl"
           }
          ],
          "scattermapbox": [
           {
            "marker": {
             "colorbar": {
              "outlinewidth": 0,
              "ticks": ""
             }
            },
            "type": "scattermapbox"
           }
          ],
          "scatterpolar": [
           {
            "marker": {
             "colorbar": {
              "outlinewidth": 0,
              "ticks": ""
             }
            },
            "type": "scatterpolar"
           }
          ],
          "scatterpolargl": [
           {
            "marker": {
             "colorbar": {
              "outlinewidth": 0,
              "ticks": ""
             }
            },
            "type": "scatterpolargl"
           }
          ],
          "scatterternary": [
           {
            "marker": {
             "colorbar": {
              "outlinewidth": 0,
              "ticks": ""
             }
            },
            "type": "scatterternary"
           }
          ],
          "surface": [
           {
            "colorbar": {
             "outlinewidth": 0,
             "ticks": ""
            },
            "colorscale": [
             [
              0,
              "#0d0887"
             ],
             [
              0.1111111111111111,
              "#46039f"
             ],
             [
              0.2222222222222222,
              "#7201a8"
             ],
             [
              0.3333333333333333,
              "#9c179e"
             ],
             [
              0.4444444444444444,
              "#bd3786"
             ],
             [
              0.5555555555555556,
              "#d8576b"
             ],
             [
              0.6666666666666666,
              "#ed7953"
             ],
             [
              0.7777777777777778,
              "#fb9f3a"
             ],
             [
              0.8888888888888888,
              "#fdca26"
             ],
             [
              1,
              "#f0f921"
             ]
            ],
            "type": "surface"
           }
          ],
          "table": [
           {
            "cells": {
             "fill": {
              "color": "#EBF0F8"
             },
             "line": {
              "color": "white"
             }
            },
            "header": {
             "fill": {
              "color": "#C8D4E3"
             },
             "line": {
              "color": "white"
             }
            },
            "type": "table"
           }
          ]
         },
         "layout": {
          "annotationdefaults": {
           "arrowcolor": "#2a3f5f",
           "arrowhead": 0,
           "arrowwidth": 1
          },
          "coloraxis": {
           "colorbar": {
            "outlinewidth": 0,
            "ticks": ""
           }
          },
          "colorscale": {
           "diverging": [
            [
             0,
             "#8e0152"
            ],
            [
             0.1,
             "#c51b7d"
            ],
            [
             0.2,
             "#de77ae"
            ],
            [
             0.3,
             "#f1b6da"
            ],
            [
             0.4,
             "#fde0ef"
            ],
            [
             0.5,
             "#f7f7f7"
            ],
            [
             0.6,
             "#e6f5d0"
            ],
            [
             0.7,
             "#b8e186"
            ],
            [
             0.8,
             "#7fbc41"
            ],
            [
             0.9,
             "#4d9221"
            ],
            [
             1,
             "#276419"
            ]
           ],
           "sequential": [
            [
             0,
             "#0d0887"
            ],
            [
             0.1111111111111111,
             "#46039f"
            ],
            [
             0.2222222222222222,
             "#7201a8"
            ],
            [
             0.3333333333333333,
             "#9c179e"
            ],
            [
             0.4444444444444444,
             "#bd3786"
            ],
            [
             0.5555555555555556,
             "#d8576b"
            ],
            [
             0.6666666666666666,
             "#ed7953"
            ],
            [
             0.7777777777777778,
             "#fb9f3a"
            ],
            [
             0.8888888888888888,
             "#fdca26"
            ],
            [
             1,
             "#f0f921"
            ]
           ],
           "sequentialminus": [
            [
             0,
             "#0d0887"
            ],
            [
             0.1111111111111111,
             "#46039f"
            ],
            [
             0.2222222222222222,
             "#7201a8"
            ],
            [
             0.3333333333333333,
             "#9c179e"
            ],
            [
             0.4444444444444444,
             "#bd3786"
            ],
            [
             0.5555555555555556,
             "#d8576b"
            ],
            [
             0.6666666666666666,
             "#ed7953"
            ],
            [
             0.7777777777777778,
             "#fb9f3a"
            ],
            [
             0.8888888888888888,
             "#fdca26"
            ],
            [
             1,
             "#f0f921"
            ]
           ]
          },
          "colorway": [
           "#636efa",
           "#EF553B",
           "#00cc96",
           "#ab63fa",
           "#FFA15A",
           "#19d3f3",
           "#FF6692",
           "#B6E880",
           "#FF97FF",
           "#FECB52"
          ],
          "font": {
           "color": "#2a3f5f"
          },
          "geo": {
           "bgcolor": "white",
           "lakecolor": "white",
           "landcolor": "#E5ECF6",
           "showlakes": true,
           "showland": true,
           "subunitcolor": "white"
          },
          "hoverlabel": {
           "align": "left"
          },
          "hovermode": "closest",
          "mapbox": {
           "style": "light"
          },
          "paper_bgcolor": "white",
          "plot_bgcolor": "#E5ECF6",
          "polar": {
           "angularaxis": {
            "gridcolor": "white",
            "linecolor": "white",
            "ticks": ""
           },
           "bgcolor": "#E5ECF6",
           "radialaxis": {
            "gridcolor": "white",
            "linecolor": "white",
            "ticks": ""
           }
          },
          "scene": {
           "xaxis": {
            "backgroundcolor": "#E5ECF6",
            "gridcolor": "white",
            "gridwidth": 2,
            "linecolor": "white",
            "showbackground": true,
            "ticks": "",
            "zerolinecolor": "white"
           },
           "yaxis": {
            "backgroundcolor": "#E5ECF6",
            "gridcolor": "white",
            "gridwidth": 2,
            "linecolor": "white",
            "showbackground": true,
            "ticks": "",
            "zerolinecolor": "white"
           },
           "zaxis": {
            "backgroundcolor": "#E5ECF6",
            "gridcolor": "white",
            "gridwidth": 2,
            "linecolor": "white",
            "showbackground": true,
            "ticks": "",
            "zerolinecolor": "white"
           }
          },
          "shapedefaults": {
           "line": {
            "color": "#2a3f5f"
           }
          },
          "ternary": {
           "aaxis": {
            "gridcolor": "white",
            "linecolor": "white",
            "ticks": ""
           },
           "baxis": {
            "gridcolor": "white",
            "linecolor": "white",
            "ticks": ""
           },
           "bgcolor": "#E5ECF6",
           "caxis": {
            "gridcolor": "white",
            "linecolor": "white",
            "ticks": ""
           }
          },
          "title": {
           "x": 0.05
          },
          "xaxis": {
           "automargin": true,
           "gridcolor": "white",
           "linecolor": "white",
           "ticks": "",
           "title": {
            "standoff": 15
           },
           "zerolinecolor": "white",
           "zerolinewidth": 2
          },
          "yaxis": {
           "automargin": true,
           "gridcolor": "white",
           "linecolor": "white",
           "ticks": "",
           "title": {
            "standoff": 15
           },
           "zerolinecolor": "white",
           "zerolinewidth": 2
          }
         }
        },
        "title": {
         "text": "Incidents by state - per 1M"
        },
        "width": 1000
       }
      },
      "text/html": [
       "<div>\n",
       "        \n",
       "        \n",
       "            <div id=\"e0f8b4c1-8eb5-4fb5-861f-1fd6d5d37a2b\" class=\"plotly-graph-div\" style=\"height:400px; width:1000px;\"></div>\n",
       "            <script type=\"text/javascript\">\n",
       "                require([\"plotly\"], function(Plotly) {\n",
       "                    window.PLOTLYENV=window.PLOTLYENV || {};\n",
       "                    \n",
       "                if (document.getElementById(\"e0f8b4c1-8eb5-4fb5-861f-1fd6d5d37a2b\")) {\n",
       "                    Plotly.newPlot(\n",
       "                        'e0f8b4c1-8eb5-4fb5-861f-1fd6d5d37a2b',\n",
       "                        [{\"autocolorscale\": false, \"colorbar\": {\"thickness\": 10, \"title\": {\"text\": \"Incidents - 2014\"}, \"x\": 0.22}, \"colorscale\": [[0.0, \"#baff00\"], [1.0, \"#000000\"]], \"geo\": \"geo\", \"locationmode\": \"USA-states\", \"locations\": [\"CA\", \"FL\", \"TX\", \"IL\", \"OH\", \"PA\", \"NC\", \"GA\", \"LA\", \"NY\", \"SC\", \"TN\", \"NJ\", \"MI\", \"AL\", \"VA\", \"MO\", \"MD\", \"IN\", \"WI\", \"KY\", \"MA\", \"MS\", \"WA\", \"OK\", \"CT\", \"AR\", \"IA\", \"CO\", \"AZ\", \"DE\", \"MN\", \"OR\", \"KS\", \"NV\", \"WV\", \"NE\", \"NM\", \"NH\", \"UT\", \"RI\", \"ME\", \"VT\", \"AK\", \"MT\", \"ID\", \"ND\", \"SD\", \"WY\", \"HI\"], \"marker\": {\"line\": {\"color\": \"rgb(255,255,255)\", \"width\": 2}}, \"text\": [\"California\", \"Florida\", \"Texas\", \"Illinois\", \"Ohio\", \"Pennsylvania\", \"North Carolina\", \"Georgia\", \"Louisiana\", \"New York\", \"South Carolina\", \"Tennessee\", \"New Jersey\", \"Michigan\", \"Alabama\", \"Virginia\", \"Missouri\", \"Maryland\", \"Indiana\", \"Wisconsin\", \"Kentucky\", \"Massachusetts\", \"Mississippi\", \"Washington\", \"Oklahoma\", \"Connecticut\", \"Arkansas\", \"Iowa\", \"Colorado\", \"Arizona\", \"Delaware\", \"Minnesota\", \"Oregon\", \"Kansas\", \"Nevada\", \"West Virginia\", \"Nebraska\", \"New Mexico\", \"New Hampshire\", \"Utah\", \"Rhode Island\", \"Maine\", \"Vermont\", \"Alaska\", \"Montana\", \"Idaho\", \"North Dakota\", \"South Dakota\", \"Wyoming\", \"Hawaii\"], \"type\": \"choropleth\", \"z\": [24.15525287818382, 39.500854215413334, 29.033839092369384, 60.031987059935474, 51.021406324051604, 44.31507734593698, 54.48490549171608, 50.45187700348823, 102.60100546832138, 24.203399108582325, 86.03188403814177, 60.77214101093654, 42.884790194411046, 36.4278493450892, 68.04363300547797, 38.28766724462096, 52.50736713035515, 53.12038186253653, 45.61287552515473, 46.28845679761418, 55.32924240505627, 35.779487176454374, 65.53818384998712, 23.25436632631633, 41.38339667184668, 40.544867381424694, 48.18504134141764, 45.74684579920142, 25.97539476059469, 20.642011096194743, 132.15797622979298, 20.636438778014654, 25.1002369765087, 32.83468280145169, 33.34501591337675, 48.93301691784714, 46.15535226509719, 38.27124939363989, 43.12856888907557, 18.468720115993776, 44.74359787768568, 34.378851182782775, 67.97628987009331, 49.5717139725685, 31.31449440302341, 17.62204723444188, 37.29410264964428, 21.19921610009799, 27.46554790334874, 8.48139253156845]}, {\"autocolorscale\": false, \"colorbar\": {\"thickness\": 10, \"title\": {\"text\": \"Incidents - 2015\"}, \"x\": 0.47}, \"colorscale\": [[0.0, \"#00baff\"], [1.0, \"#000000\"]], \"geo\": \"geo2\", \"locationmode\": \"USA-states\", \"locations\": [\"IL\", \"TX\", \"CA\", \"NY\", \"GA\", \"FL\", \"OH\", \"NC\", \"PA\", \"TN\", \"MO\", \"SC\", \"LA\", \"MA\", \"VA\", \"IN\", \"MD\", \"MI\", \"WI\", \"NJ\", \"AL\", \"WA\", \"KY\", \"OK\", \"CO\", \"CT\", \"OR\", \"MS\", \"IA\", \"AR\", \"NV\", \"AZ\", \"KS\", \"MN\", \"NM\", \"AK\", \"NE\", \"DE\", \"WV\", \"UT\", \"ME\", \"RI\", \"NH\", \"WY\", \"ID\", \"ND\", \"MT\", \"VT\", \"SD\", \"HI\"], \"marker\": {\"line\": {\"color\": \"rgb(255,255,255)\", \"width\": 2}}, \"text\": [\"Illinois\", \"Texas\", \"California\", \"New York\", \"Georgia\", \"Florida\", \"Ohio\", \"North Carolina\", \"Pennsylvania\", \"Tennessee\", \"Missouri\", \"South Carolina\", \"Louisiana\", \"Massachusetts\", \"Virginia\", \"Indiana\", \"Maryland\", \"Michigan\", \"Wisconsin\", \"New Jersey\", \"Alabama\", \"Washington\", \"Kentucky\", \"Oklahoma\", \"Colorado\", \"Connecticut\", \"Oregon\", \"Mississippi\", \"Iowa\", \"Arkansas\", \"Nevada\", \"Arizona\", \"Kansas\", \"Minnesota\", \"New Mexico\", \"Alaska\", \"Nebraska\", \"Delaware\", \"West Virginia\", \"Utah\", \"Maine\", \"Rhode Island\", \"New Hampshire\", \"Wyoming\", \"Idaho\", \"North Dakota\", \"Montana\", \"Vermont\", \"South Dakota\", \"Hawaii\"], \"type\": \"choropleth\", \"z\": [67.16239353711212, 29.79610514336074, 20.755706946566725, 36.91240674435827, 67.94445124898452, 33.40049857970004, 45.87767960509044, 46.24701948424805, 34.98032459394862, 66.87343949330644, 70.07870060419204, 86.66763554542253, 90.67813741532153, 49.22091893469157, 39.63932637299446, 49.93723041461823, 53.618702871707484, 31.9151945825115, 48.46907161203359, 29.92942405078916, 53.2642649325388, 32.28151209534165, 51.62676268114837, 53.71076141142673, 36.13281984377783, 51.35875617315525, 42.694423933971265, 55.29172785562117, 47.01325661709585, 45.15836821495518, 42.789923957686256, 17.560300608932693, 39.61158988720407, 18.695840202914617, 47.244034214727606, 128.8053507098531, 49.431485053980765, 97.19432385148707, 46.417038907793504, 27.158451458626782, 43.47060258158924, 53.495024015951934, 39.10067694683954, 84.51887417444696, 26.793450651307914, 49.40174159374661, 33.96399622320362, 46.785253288163574, 30.15459058263353, 13.181167591340218]}, {\"autocolorscale\": false, \"colorbar\": {\"thickness\": 10, \"title\": {\"text\": \"Incidents - 2016\"}, \"x\": 0.72}, \"colorscale\": [[0.0, \"#ffba00\"], [1.0, \"#000000\"]], \"geo\": \"geo3\", \"locationmode\": \"USA-states\", \"locations\": [\"IL\", \"FL\", \"CA\", \"TX\", \"NY\", \"OH\", \"PA\", \"NC\", \"LA\", \"TN\", \"GA\", \"VA\", \"MO\", \"MA\", \"IN\", \"SC\", \"MI\", \"AL\", \"MD\", \"NJ\", \"KY\", \"OK\", \"WI\", \"MS\", \"CO\", \"CT\", \"WA\", \"AR\", \"IA\", \"KS\", \"AZ\", \"OR\", \"NV\", \"MN\", \"AK\", \"NM\", \"WV\", \"NE\", \"DE\", \"NH\", \"UT\", \"RI\", \"ME\", \"MT\", \"ID\", \"ND\", \"SD\", \"WY\", \"VT\", \"HI\"], \"marker\": {\"line\": {\"color\": \"rgb(255,255,255)\", \"width\": 2}}, \"text\": [\"Illinois\", \"Florida\", \"California\", \"Texas\", \"New York\", \"Ohio\", \"Pennsylvania\", \"North Carolina\", \"Louisiana\", \"Tennessee\", \"Georgia\", \"Virginia\", \"Missouri\", \"Massachusetts\", \"Indiana\", \"South Carolina\", \"Michigan\", \"Alabama\", \"Maryland\", \"New Jersey\", \"Kentucky\", \"Oklahoma\", \"Wisconsin\", \"Mississippi\", \"Colorado\", \"Connecticut\", \"Washington\", \"Arkansas\", \"Iowa\", \"Kansas\", \"Arizona\", \"Oregon\", \"Nevada\", \"Minnesota\", \"Alaska\", \"New Mexico\", \"West Virginia\", \"Nebraska\", \"Delaware\", \"New Hampshire\", \"Utah\", \"Rhode Island\", \"Maine\", \"Montana\", \"Idaho\", \"North Dakota\", \"South Dakota\", \"Wyoming\", \"Vermont\", \"Hawaii\"], \"type\": \"choropleth\", \"z\": [98.52345403934467, 50.908914995660204, 23.062232423588515, 32.26846561602595, 32.100254210593654, 52.47097916519661, 42.73073698376772, 51.714738646362655, 110.61911434168802, 75.77113115388372, 41.437149015460136, 46.90316642147031, 63.74027611696209, 56.54830881002142, 56.94714460760666, 75.12754034449759, 33.05904707548013, 67.26971300653992, 53.83290267011197, 34.48075365462184, 57.51167864479278, 57.17168491449331, 37.19930060118227, 71.27803184287511, 36.63650862374685, 56.096196524187455, 26.320551415552156, 60.19241508689444, 52.60578232541506, 49.11957456265545, 19.94110678469882, 33.72925284327825, 45.893994462581325, 21.18257040172111, 150.0329060935612, 47.66366795697034, 54.48053966046744, 49.975759788952764, 86.38708154940498, 50.65656117934434, 20.541554249587445, 56.05153146028193, 43.56414820823663, 38.910019858521245, 23.0253189378049, 49.71147460141339, 41.72026561902444, 54.339454722826, 37.68175433420349, 13.829515336757451]}, {\"autocolorscale\": false, \"colorbar\": {\"thickness\": 10, \"title\": {\"text\": \"Incidents - 2017\"}, \"x\": 0.98}, \"colorscale\": [[0.0, \"#f00567\"], [1.0, \"#000000\"]], \"geo\": \"geo4\", \"locationmode\": \"USA-states\", \"locations\": [\"IL\", \"CA\", \"FL\", \"TX\", \"OH\", \"PA\", \"NC\", \"NY\", \"GA\", \"LA\", \"TN\", \"MA\", \"MO\", \"SC\", \"MD\", \"IN\", \"VA\", \"AL\", \"WI\", \"MI\", \"NJ\", \"KY\", \"MS\", \"WA\", \"OK\", \"AR\", \"CO\", \"CT\", \"MN\", \"AZ\", \"IA\", \"KS\", \"OR\", \"NM\", \"NE\", \"NV\", \"WV\", \"DE\", \"AK\", \"UT\", \"NH\", \"ME\", \"SD\", \"RI\", \"MT\", \"ID\", \"ND\", \"WY\", \"VT\", \"HI\"], \"marker\": {\"line\": {\"color\": \"rgb(255,255,255)\", \"width\": 2}}, \"text\": [\"Illinois\", \"California\", \"Florida\", \"Texas\", \"Ohio\", \"Pennsylvania\", \"North Carolina\", \"New York\", \"Georgia\", \"Louisiana\", \"Tennessee\", \"Massachusetts\", \"Missouri\", \"South Carolina\", \"Maryland\", \"Indiana\", \"Virginia\", \"Alabama\", \"Wisconsin\", \"Michigan\", \"New Jersey\", \"Kentucky\", \"Mississippi\", \"Washington\", \"Oklahoma\", \"Arkansas\", \"Colorado\", \"Connecticut\", \"Minnesota\", \"Arizona\", \"Iowa\", \"Kansas\", \"Oregon\", \"New Mexico\", \"Nebraska\", \"Nevada\", \"West Virginia\", \"Delaware\", \"Alaska\", \"Utah\", \"New Hampshire\", \"Maine\", \"South Dakota\", \"Rhode Island\", \"Montana\", \"Idaho\", \"North Dakota\", \"Wyoming\", \"Vermont\", \"Hawaii\"], \"type\": \"choropleth\", \"z\": [99.50183776316271, 29.112156142478394, 49.53088200437703, 25.377155729798098, 57.89116358366749, 42.453559285300976, 52.11375939556802, 25.917884892330903, 47.87259838731285, 106.35182103006369, 69.8337137792575, 64.14603235844963, 70.80168129846845, 85.68636420757588, 65.51985753767164, 55.66748277273463, 43.50159423154094, 74.92123270811796, 59.089604010738164, 34.0802692581838, 37.74521876082503, 57.8148371507591, 86.04648751381008, 29.661573899000086, 55.05207697628056, 68.26513646200779, 36.01380508420553, 54.56254826686962, 34.077715149811745, 20.818922052253438, 46.60207269477996, 49.64460304759457, 30.808432563415934, 53.501608630955936, 57.233745746580965, 36.75474910047588, 53.65846141653935, 101.6113629192187, 107.12557415252518, 18.046364978708514, 38.15473337250059, 38.01318739265488, 56.968736473503526, 45.19700213727394, 39.64523450037508, 23.706966764868778, 44.0294712755702, 39.29636193417557, 28.4216004163164, 11.936500625261989]}],\n",
       "                        {\"geo\": {\"domain\": {\"x\": [0.0, 0.25], \"y\": [0, 1]}, \"lakecolor\": \"rgb(255, 255, 255)\", \"landcolor\": \"rgb(229, 229, 229)\", \"projection\": {\"type\": \"albers usa\"}, \"scope\": \"usa\", \"showlakes\": true, \"showland\": true, \"subunitcolor\": \"rgb(255, 255, 255)\"}, \"geo2\": {\"domain\": {\"x\": [0.25, 0.5], \"y\": [0, 1]}, \"lakecolor\": \"rgb(255, 255, 255)\", \"landcolor\": \"rgb(229, 229, 229)\", \"projection\": {\"type\": \"albers usa\"}, \"scope\": \"usa\", \"showlakes\": true, \"showland\": true, \"subunitcolor\": \"rgb(255, 255, 255)\"}, \"geo3\": {\"domain\": {\"x\": [0.5, 0.75], \"y\": [0, 1]}, \"lakecolor\": \"rgb(255, 255, 255)\", \"landcolor\": \"rgb(229, 229, 229)\", \"projection\": {\"type\": \"albers usa\"}, \"scope\": \"usa\", \"showlakes\": true, \"showland\": true, \"subunitcolor\": \"rgb(255, 255, 255)\"}, \"geo4\": {\"domain\": {\"x\": [0.75, 1.0], \"y\": [0, 1]}, \"lakecolor\": \"rgb(255, 255, 255)\", \"landcolor\": \"rgb(229, 229, 229)\", \"projection\": {\"type\": \"albers usa\"}, \"scope\": \"usa\", \"showlakes\": true, \"showland\": true, \"subunitcolor\": \"rgb(255, 255, 255)\"}, \"height\": 400, \"hovermode\": false, \"template\": {\"data\": {\"bar\": [{\"error_x\": {\"color\": \"#2a3f5f\"}, \"error_y\": {\"color\": \"#2a3f5f\"}, \"marker\": {\"line\": {\"color\": \"#E5ECF6\", \"width\": 0.5}}, \"type\": \"bar\"}], \"barpolar\": [{\"marker\": {\"line\": {\"color\": \"#E5ECF6\", \"width\": 0.5}}, \"type\": \"barpolar\"}], \"carpet\": [{\"aaxis\": {\"endlinecolor\": \"#2a3f5f\", \"gridcolor\": \"white\", \"linecolor\": \"white\", \"minorgridcolor\": \"white\", \"startlinecolor\": \"#2a3f5f\"}, \"baxis\": {\"endlinecolor\": \"#2a3f5f\", \"gridcolor\": \"white\", \"linecolor\": \"white\", \"minorgridcolor\": \"white\", \"startlinecolor\": \"#2a3f5f\"}, \"type\": \"carpet\"}], \"choropleth\": [{\"colorbar\": {\"outlinewidth\": 0, \"ticks\": \"\"}, \"type\": \"choropleth\"}], \"contour\": [{\"colorbar\": {\"outlinewidth\": 0, \"ticks\": \"\"}, \"colorscale\": [[0.0, \"#0d0887\"], [0.1111111111111111, \"#46039f\"], [0.2222222222222222, \"#7201a8\"], [0.3333333333333333, \"#9c179e\"], [0.4444444444444444, \"#bd3786\"], [0.5555555555555556, \"#d8576b\"], [0.6666666666666666, \"#ed7953\"], [0.7777777777777778, \"#fb9f3a\"], [0.8888888888888888, \"#fdca26\"], [1.0, \"#f0f921\"]], \"type\": \"contour\"}], \"contourcarpet\": [{\"colorbar\": {\"outlinewidth\": 0, \"ticks\": \"\"}, \"type\": \"contourcarpet\"}], \"heatmap\": [{\"colorbar\": {\"outlinewidth\": 0, \"ticks\": \"\"}, \"colorscale\": [[0.0, \"#0d0887\"], [0.1111111111111111, \"#46039f\"], [0.2222222222222222, \"#7201a8\"], [0.3333333333333333, \"#9c179e\"], [0.4444444444444444, \"#bd3786\"], [0.5555555555555556, \"#d8576b\"], [0.6666666666666666, \"#ed7953\"], [0.7777777777777778, \"#fb9f3a\"], [0.8888888888888888, \"#fdca26\"], [1.0, \"#f0f921\"]], \"type\": \"heatmap\"}], \"heatmapgl\": [{\"colorbar\": {\"outlinewidth\": 0, \"ticks\": \"\"}, \"colorscale\": [[0.0, \"#0d0887\"], [0.1111111111111111, \"#46039f\"], [0.2222222222222222, \"#7201a8\"], [0.3333333333333333, \"#9c179e\"], [0.4444444444444444, \"#bd3786\"], [0.5555555555555556, \"#d8576b\"], [0.6666666666666666, \"#ed7953\"], [0.7777777777777778, \"#fb9f3a\"], [0.8888888888888888, \"#fdca26\"], [1.0, \"#f0f921\"]], \"type\": \"heatmapgl\"}], \"histogram\": [{\"marker\": {\"colorbar\": {\"outlinewidth\": 0, \"ticks\": \"\"}}, \"type\": \"histogram\"}], \"histogram2d\": [{\"colorbar\": {\"outlinewidth\": 0, \"ticks\": \"\"}, \"colorscale\": [[0.0, \"#0d0887\"], [0.1111111111111111, \"#46039f\"], [0.2222222222222222, \"#7201a8\"], [0.3333333333333333, \"#9c179e\"], [0.4444444444444444, \"#bd3786\"], [0.5555555555555556, \"#d8576b\"], [0.6666666666666666, \"#ed7953\"], [0.7777777777777778, \"#fb9f3a\"], [0.8888888888888888, \"#fdca26\"], [1.0, \"#f0f921\"]], \"type\": \"histogram2d\"}], \"histogram2dcontour\": [{\"colorbar\": {\"outlinewidth\": 0, \"ticks\": \"\"}, \"colorscale\": [[0.0, \"#0d0887\"], [0.1111111111111111, \"#46039f\"], [0.2222222222222222, \"#7201a8\"], [0.3333333333333333, \"#9c179e\"], [0.4444444444444444, \"#bd3786\"], [0.5555555555555556, \"#d8576b\"], [0.6666666666666666, \"#ed7953\"], [0.7777777777777778, \"#fb9f3a\"], [0.8888888888888888, \"#fdca26\"], [1.0, \"#f0f921\"]], \"type\": \"histogram2dcontour\"}], \"mesh3d\": [{\"colorbar\": {\"outlinewidth\": 0, \"ticks\": \"\"}, \"type\": \"mesh3d\"}], \"parcoords\": [{\"line\": {\"colorbar\": {\"outlinewidth\": 0, \"ticks\": \"\"}}, \"type\": \"parcoords\"}], \"pie\": [{\"automargin\": true, \"type\": \"pie\"}], \"scatter\": [{\"marker\": {\"colorbar\": {\"outlinewidth\": 0, \"ticks\": \"\"}}, \"type\": \"scatter\"}], \"scatter3d\": [{\"line\": {\"colorbar\": {\"outlinewidth\": 0, \"ticks\": \"\"}}, \"marker\": {\"colorbar\": {\"outlinewidth\": 0, \"ticks\": \"\"}}, \"type\": \"scatter3d\"}], \"scattercarpet\": [{\"marker\": {\"colorbar\": {\"outlinewidth\": 0, \"ticks\": \"\"}}, \"type\": \"scattercarpet\"}], \"scattergeo\": [{\"marker\": {\"colorbar\": {\"outlinewidth\": 0, \"ticks\": \"\"}}, \"type\": \"scattergeo\"}], \"scattergl\": [{\"marker\": {\"colorbar\": {\"outlinewidth\": 0, \"ticks\": \"\"}}, \"type\": \"scattergl\"}], \"scattermapbox\": [{\"marker\": {\"colorbar\": {\"outlinewidth\": 0, \"ticks\": \"\"}}, \"type\": \"scattermapbox\"}], \"scatterpolar\": [{\"marker\": {\"colorbar\": {\"outlinewidth\": 0, \"ticks\": \"\"}}, \"type\": \"scatterpolar\"}], \"scatterpolargl\": [{\"marker\": {\"colorbar\": {\"outlinewidth\": 0, \"ticks\": \"\"}}, \"type\": \"scatterpolargl\"}], \"scatterternary\": [{\"marker\": {\"colorbar\": {\"outlinewidth\": 0, \"ticks\": \"\"}}, \"type\": \"scatterternary\"}], \"surface\": [{\"colorbar\": {\"outlinewidth\": 0, \"ticks\": \"\"}, \"colorscale\": [[0.0, \"#0d0887\"], [0.1111111111111111, \"#46039f\"], [0.2222222222222222, \"#7201a8\"], [0.3333333333333333, \"#9c179e\"], [0.4444444444444444, \"#bd3786\"], [0.5555555555555556, \"#d8576b\"], [0.6666666666666666, \"#ed7953\"], [0.7777777777777778, \"#fb9f3a\"], [0.8888888888888888, \"#fdca26\"], [1.0, \"#f0f921\"]], \"type\": \"surface\"}], \"table\": [{\"cells\": {\"fill\": {\"color\": \"#EBF0F8\"}, \"line\": {\"color\": \"white\"}}, \"header\": {\"fill\": {\"color\": \"#C8D4E3\"}, \"line\": {\"color\": \"white\"}}, \"type\": \"table\"}]}, \"layout\": {\"annotationdefaults\": {\"arrowcolor\": \"#2a3f5f\", \"arrowhead\": 0, \"arrowwidth\": 1}, \"coloraxis\": {\"colorbar\": {\"outlinewidth\": 0, \"ticks\": \"\"}}, \"colorscale\": {\"diverging\": [[0, \"#8e0152\"], [0.1, \"#c51b7d\"], [0.2, \"#de77ae\"], [0.3, \"#f1b6da\"], [0.4, \"#fde0ef\"], [0.5, \"#f7f7f7\"], [0.6, \"#e6f5d0\"], [0.7, \"#b8e186\"], [0.8, \"#7fbc41\"], [0.9, \"#4d9221\"], [1, \"#276419\"]], \"sequential\": [[0.0, \"#0d0887\"], [0.1111111111111111, \"#46039f\"], [0.2222222222222222, \"#7201a8\"], [0.3333333333333333, \"#9c179e\"], [0.4444444444444444, \"#bd3786\"], [0.5555555555555556, \"#d8576b\"], [0.6666666666666666, \"#ed7953\"], [0.7777777777777778, \"#fb9f3a\"], [0.8888888888888888, \"#fdca26\"], [1.0, \"#f0f921\"]], \"sequentialminus\": [[0.0, \"#0d0887\"], [0.1111111111111111, \"#46039f\"], [0.2222222222222222, \"#7201a8\"], [0.3333333333333333, \"#9c179e\"], [0.4444444444444444, \"#bd3786\"], [0.5555555555555556, \"#d8576b\"], [0.6666666666666666, \"#ed7953\"], [0.7777777777777778, \"#fb9f3a\"], [0.8888888888888888, \"#fdca26\"], [1.0, \"#f0f921\"]]}, \"colorway\": [\"#636efa\", \"#EF553B\", \"#00cc96\", \"#ab63fa\", \"#FFA15A\", \"#19d3f3\", \"#FF6692\", \"#B6E880\", \"#FF97FF\", \"#FECB52\"], \"font\": {\"color\": \"#2a3f5f\"}, \"geo\": {\"bgcolor\": \"white\", \"lakecolor\": \"white\", \"landcolor\": \"#E5ECF6\", \"showlakes\": true, \"showland\": true, \"subunitcolor\": \"white\"}, \"hoverlabel\": {\"align\": \"left\"}, \"hovermode\": \"closest\", \"mapbox\": {\"style\": \"light\"}, \"paper_bgcolor\": \"white\", \"plot_bgcolor\": \"#E5ECF6\", \"polar\": {\"angularaxis\": {\"gridcolor\": \"white\", \"linecolor\": \"white\", \"ticks\": \"\"}, \"bgcolor\": \"#E5ECF6\", \"radialaxis\": {\"gridcolor\": \"white\", \"linecolor\": \"white\", \"ticks\": \"\"}}, \"scene\": {\"xaxis\": {\"backgroundcolor\": \"#E5ECF6\", \"gridcolor\": \"white\", \"gridwidth\": 2, \"linecolor\": \"white\", \"showbackground\": true, \"ticks\": \"\", \"zerolinecolor\": \"white\"}, \"yaxis\": {\"backgroundcolor\": \"#E5ECF6\", \"gridcolor\": \"white\", \"gridwidth\": 2, \"linecolor\": \"white\", \"showbackground\": true, \"ticks\": \"\", \"zerolinecolor\": \"white\"}, \"zaxis\": {\"backgroundcolor\": \"#E5ECF6\", \"gridcolor\": \"white\", \"gridwidth\": 2, \"linecolor\": \"white\", \"showbackground\": true, \"ticks\": \"\", \"zerolinecolor\": \"white\"}}, \"shapedefaults\": {\"line\": {\"color\": \"#2a3f5f\"}}, \"ternary\": {\"aaxis\": {\"gridcolor\": \"white\", \"linecolor\": \"white\", \"ticks\": \"\"}, \"baxis\": {\"gridcolor\": \"white\", \"linecolor\": \"white\", \"ticks\": \"\"}, \"bgcolor\": \"#E5ECF6\", \"caxis\": {\"gridcolor\": \"white\", \"linecolor\": \"white\", \"ticks\": \"\"}}, \"title\": {\"x\": 0.05}, \"xaxis\": {\"automargin\": true, \"gridcolor\": \"white\", \"linecolor\": \"white\", \"ticks\": \"\", \"title\": {\"standoff\": 15}, \"zerolinecolor\": \"white\", \"zerolinewidth\": 2}, \"yaxis\": {\"automargin\": true, \"gridcolor\": \"white\", \"linecolor\": \"white\", \"ticks\": \"\", \"title\": {\"standoff\": 15}, \"zerolinecolor\": \"white\", \"zerolinewidth\": 2}}}, \"title\": {\"text\": \"Incidents by state - per 1M\"}, \"width\": 1000},\n",
       "                        {\"responsive\": true}\n",
       "                    ).then(function(){\n",
       "                            \n",
       "var gd = document.getElementById('e0f8b4c1-8eb5-4fb5-861f-1fd6d5d37a2b');\n",
       "var x = new MutationObserver(function (mutations, observer) {{\n",
       "        var display = window.getComputedStyle(gd).display;\n",
       "        if (!display || display === 'none') {{\n",
       "            console.log([gd, 'removed!']);\n",
       "            Plotly.purge(gd);\n",
       "            observer.disconnect();\n",
       "        }}\n",
       "}});\n",
       "\n",
       "// Listen for the removal of the full notebook cells\n",
       "var notebookContainer = gd.closest('#notebook-container');\n",
       "if (notebookContainer) {{\n",
       "    x.observe(notebookContainer, {childList: true});\n",
       "}}\n",
       "\n",
       "// Listen for the clearing of the current output cell\n",
       "var outputEl = gd.closest('.output');\n",
       "if (outputEl) {{\n",
       "    x.observe(outputEl, {childList: true});\n",
       "}}\n",
       "\n",
       "                        })\n",
       "                };\n",
       "                });\n",
       "            </script>\n",
       "        </div>"
      ]
     },
     "metadata": {},
     "output_type": "display_data"
    }
   ],
   "source": [
    "# Store the data of the subplots\n",
    "data = []\n",
    "# Layout for the whole plot\n",
    "layout = dict(title = 'Incidents by state - per 1M',\n",
    "              width = 1000,\n",
    "              height = 400,\n",
    "              hovermode = False)\n",
    "\n",
    "# Count-Plot (data and layout)\n",
    "data.append(dict(type = 'choropleth',\n",
    "                 colorscale = [[0.0, '#baff00'],[1.0, '#000000']],\n",
    "                 autocolorscale = False,\n",
    "                 locations = state_df_2014['state_code'],\n",
    "                 geo = 'geo',\n",
    "                 z = state_df_2014['incidentspermil'],\n",
    "                 text = state_df_2014['state'],\n",
    "                 locationmode = 'USA-states',\n",
    "                 marker = dict(line = dict (color = 'rgb(255,255,255)',\n",
    "                                            width = 2)),\n",
    "                 colorbar = dict(title = \"Incidents - 2014\",\n",
    "                                 x=0.22,\n",
    "                                 thickness=10)))\n",
    " \n",
    "layout['geo'] = dict(scope = 'usa',\n",
    "                      showland=True,\n",
    "                      projection=dict(type='albers usa'),\n",
    "                      showlakes = True,\n",
    "                      lakecolor = 'rgb(255, 255, 255)',\n",
    "                      landcolor = 'rgb(229, 229, 229)',\n",
    "                      subunitcolor = \"rgb(255, 255, 255)\",\n",
    "                      domain = dict(x = [0/4,1/4], y = [0,1]))\n",
    "\n",
    "# Sum-Plot (data and layout)\n",
    "data.append(dict(type = 'choropleth',\n",
    "                 colorscale = [[0.0, '#00baff'],[1.0, '#000000']],\n",
    "                 autocolorscale = False,\n",
    "                 locations = state_df_2015['state_code'],\n",
    "                 geo = 'geo2',\n",
    "                 z = state_df_2015['incidentspermil'],\n",
    "                 text = state_df_2015['state'],\n",
    "                 locationmode = 'USA-states',\n",
    "                 marker = dict(line = dict (color = 'rgb(255,255,255)',\n",
    "                                            width = 2)),\n",
    "                 colorbar = dict(title = \"Incidents - 2015\",\n",
    "                                 x=0.47,\n",
    "                                 thickness=10)))\n",
    "layout['geo2'] = dict(scope = 'usa',\n",
    "                      showland=True,\n",
    "                      projection=dict(type='albers usa'),\n",
    "                      showlakes = True,\n",
    "                      lakecolor = 'rgb(255, 255, 255)',\n",
    "                      landcolor = 'rgb(229, 229, 229)',\n",
    "                      subunitcolor = \"rgb(255, 255, 255)\",\n",
    "                      domain = dict(x = [1/4,2/4], y = [0,1]))\n",
    "\n",
    "# Mean-Plot (data and layout)\n",
    "data.append(dict(type = 'choropleth',\n",
    "                 colorscale = [[0.0, '#ffba00'],[1.0, '#000000']],\n",
    "                 autocolorscale = False,\n",
    "                 locations = state_df_2016['state_code'],\n",
    "                 geo = 'geo3',\n",
    "                 z = state_df_2016['incidentspermil'],\n",
    "                 text = state_df_2016['state'],\n",
    "                 locationmode = 'USA-states',\n",
    "                 marker = dict(line = dict (color = 'rgb(255,255,255)',\n",
    "                                            width = 2)),\n",
    "                 colorbar = dict(title = \"Incidents - 2016\",\n",
    "                                 x=0.72,\n",
    "                                 thickness=10)))\n",
    " \n",
    "layout['geo3'] = dict(scope = 'usa',\n",
    "                      showland=True,\n",
    "                      projection=dict(type='albers usa'),\n",
    "                      showlakes = True,\n",
    "                      lakecolor = 'rgb(255, 255, 255)',\n",
    "                      landcolor = 'rgb(229, 229, 229)',\n",
    "                      subunitcolor = \"rgb(255, 255, 255)\",\n",
    "                      domain = dict(x = [2/4,3/4], y = [0,1]))\n",
    "\n",
    "\n",
    "# Mean-Plot (data and layout)\n",
    "data.append(dict(type = 'choropleth',\n",
    "                 colorscale = [[0.0, '#f00567'],[1.0, '#000000']],\n",
    "                 autocolorscale = False,\n",
    "                 locations = state_df_2017['state_code'],\n",
    "                 geo = 'geo4',\n",
    "                 z = state_df_2017['incidentspermil'],\n",
    "                 text = state_df_2017['state'],\n",
    "                 locationmode = 'USA-states',\n",
    "                 marker = dict(line = dict (color = 'rgb(255,255,255)',\n",
    "                                            width = 2)),\n",
    "                 colorbar = dict(title = \"Incidents - 2017\",\n",
    "                                 x=0.98,\n",
    "                                 thickness=10)))\n",
    " \n",
    "layout['geo4'] = dict(scope = 'usa',\n",
    "                      showland=True,\n",
    "                      projection=dict(type='albers usa'),\n",
    "                      showlakes = True,\n",
    "                      lakecolor = 'rgb(255, 255, 255)',\n",
    "                      landcolor = 'rgb(229, 229, 229)',\n",
    "                      subunitcolor = \"rgb(255, 255, 255)\",\n",
    "                      domain = dict(x = [3/4,4/4], y = [0,1]))\n",
    "\n",
    "\n",
    "\n",
    "\n",
    "# Create the subplots\n",
    "fig = {'data':data, 'layout':layout}\n",
    "iplot(fig)"
   ]
  },
  {
   "cell_type": "code",
   "execution_count": 34,
   "metadata": {},
   "outputs": [],
   "source": [
    "def cleaned(n):\n",
    "    if n == 2:\n",
    "        return 1\n",
    "    else:\n",
    "        return n\n",
    "\n",
    "df_prime['Children/School'] = df_prime['Incident at School'] + df_prime['Children Injured/Killed']\n",
    "df_prime['Drug/Gang Related'] = df_prime['Gang Related'] + df_prime['Drug Related']\n",
    "\n",
    "df_prime['Children/School'] = df_prime['Children/School'].map(cleaned) \n",
    "df_prime['Drug/Gang Related'] = df_prime['Drug/Gang Related'].map(cleaned) \n",
    "\n",
    "df_prime['hurt'] = df_prime['n_killed'] + df_prime['n_injured']"
   ]
  },
  {
   "cell_type": "markdown",
   "metadata": {},
   "source": [
    "### Alaska"
   ]
  },
  {
   "cell_type": "code",
   "execution_count": 40,
   "metadata": {},
   "outputs": [
    {
     "data": {
      "text/plain": [
       "<matplotlib.axes._subplots.AxesSubplot at 0x244f359d710>"
      ]
     },
     "execution_count": 40,
     "metadata": {},
     "output_type": "execute_result"
    },
    {
     "data": {
      "image/png": "[encoded data removed]",
      "text/plain": [
       "<Figure size 432x288 with 1 Axes>"
      ]
     },
     "metadata": {
      "needs_background": "light"
     },
     "output_type": "display_data"
    }
   ],
   "source": [
    "df_prime[df_prime['state']=='Alaska'][['Accidental Shooting', 'Attempted Murder/Suicide', 'Armed Robbery',\n",
    "       'Bar/Club Incident', 'Children/School', 'Defensive Use',\n",
    "       'Drug Related','Gang Related', \n",
    "       'Home Invastion', 'Mass Shooting', 'Murder/Suicide',\n",
    "        'Terrorism']].sum().sort_values(ascending=False).plot(kind='bar')"
   ]
  },
  {
   "cell_type": "code",
   "execution_count": 18,
   "metadata": {},
   "outputs": [
    {
     "data": {
      "image/png": "[encoded data removed]",
      "text/plain": [
       "<Figure size 432x288 with 1 Axes>"
      ]
     },
     "metadata": {
      "needs_background": "light"
     },
     "output_type": "display_data"
    }
   ],
   "source": [
    "city_df = df_prime[df_prime['state']=='Alaska'].groupby('city_or_county').agg({'hurt': 'sum', 'n_killed': 'sum', 'n_injured': 'sum'}).sort_values(by='hurt', ascending=False)[:10]\n",
    "\n",
    "city_df.reset_index(inplace=True)\n",
    "\n",
    "sns.barplot(\"city_or_county\",\"hurt\",\n",
    "            data=city_df,color=\"lightblue\",label=\"Injured\",\n",
    "            linewidth = .5 ,edgecolor =\"k\" * city_df[\"city_or_county\"].nunique())\n",
    "sns.barplot(\"city_or_county\",\"n_killed\",\n",
    "            data=city_df,color=\"darkblue\",label=\"Killed\",\n",
    "           linewidth = .5 ,edgecolor = \"k\" * city_df[\"city_or_county\"].nunique())\n",
    "plt.legend(loc=\"best\",prop = {\"size\" : 15})\n",
    "plt.xticks(rotation = 90)\n",
    "plt.title(\"Total Number of people killed and injured for top cities\")\n",
    "plt.grid(True,alpha=.3)\n",
    "plt.show()"
   ]
  },
  {
   "cell_type": "code",
   "execution_count": null,
   "metadata": {},
   "outputs": [],
   "source": []
  },
  {
   "cell_type": "code",
   "execution_count": null,
   "metadata": {},
   "outputs": [],
   "source": []
  }
 ],
 "metadata": {
  "kernelspec": {
   "display_name": "Python 3",
   "language": "python",
   "name": "python3"
  },
  "language_info": {
   "codemirror_mode": {
    "name": "ipython",
    "version": 3
   },
   "file_extension": ".py",
   "mimetype": "text/x-python",
   "name": "python",
   "nbconvert_exporter": "python",
   "pygments_lexer": "ipython3",
   "version": "3.7.3"
  }
 },
 "nbformat": 4,
 "nbformat_minor": 2
}
